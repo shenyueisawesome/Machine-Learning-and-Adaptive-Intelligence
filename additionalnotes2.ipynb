{
 "cells": [
  {
   "cell_type": "markdown",
   "metadata": {
    "slideshow": {
     "slide_type": "slide"
    }
   },
   "source": [
    "### week 2\n",
    "\n",
    "# Additional Notes"
   ]
  },
  {
   "cell_type": "code",
   "execution_count": 1,
   "metadata": {
    "collapsed": false,
    "slideshow": {
     "slide_type": "skip"
    }
   },
   "outputs": [],
   "source": [
    "import pods\n",
    "import notebook as nb\n",
    "import mlai\n",
    "import numpy as np\n",
    "import scipy as sp\n",
    "from matplotlib import pyplot as plt\n",
    "%matplotlib inline"
   ]
  },
  {
   "cell_type": "markdown",
   "metadata": {
    "slideshow": {
     "slide_type": "slide"
    }
   },
   "source": [
    "### $f(x|\\theta)\\ $ or $\\ f(x;\\theta)\\ $?\n",
    "\n",
    "$x$ is a value of a rv (random variable) $X$, while $\\theta$ is a set of parameters\n",
    "\n",
    "- $f(x;\\theta)$ means the probability density of a rv $X$ when it takes a value $x$, with $\\theta$ being the parameter of the distribution\n",
    "\n",
    "- $f(x|y)$ is the conditional probability of a rv $X$ when it takes a value $x$, given a rv $Y$ when it takes a value $y$"
   ]
  },
  {
   "cell_type": "markdown",
   "metadata": {
    "slideshow": {
     "slide_type": "slide"
    }
   },
   "source": [
    "### Random Variable and Parameter\n",
    "\n",
    "(eg) **Gaussian distribution**\n",
    "\n",
    "Conceptually:\n",
    "$$\n",
    "  p(x; \\mu,\\sigma^2) = \\frac{1}{\\sqrt{2\\pi\\sigma^2}} \\exp\\left( -\\frac{(x-\\mu)^2}{2\\sigma^2} \\right)\n",
    "$$\n",
    "In practice:\n",
    "$$\n",
    "  p(x\\ |\\ \\mu,\\sigma^2) = \\frac{1}{\\sqrt{2\\pi\\sigma^2}} \\exp\\left( -\\frac{(x-\\mu)^2}{2\\sigma^2} \\right)\n",
    "$$"
   ]
  },
  {
   "cell_type": "markdown",
   "metadata": {
    "slideshow": {
     "slide_type": "slide"
    }
   },
   "source": [
    "### $L^1$-norm and $L^2$-norm\n",
    "\n",
    "- $L^1$-norm (Manhattan distance, or taxicab geometry)\n",
    "$$\n",
    "  ||\\mathbf{x}||_1 = |x_1| + \\ldots + |x_n|\n",
    "$$\n",
    "\n",
    "- $L^2$-norm (Euclidean distance)\n",
    "$$\n",
    "  ||\\mathbf{x}||_2 = \\sqrt{\\mathbf{x}^\\top\\mathbf{x}} = \\sqrt{x_1^2 + \\ldots + x_n^2}\n",
    "$$\n",
    "\n",
    "Wikipedia:\n",
    "[Taxicab geometry](https://en.wikipedia.org/wiki/Taxicab_geometry) /\n",
    "[Euclidean distance](https://en.wikipedia.org/wiki/Euclidean_distance)"
   ]
  },
  {
   "cell_type": "markdown",
   "metadata": {
    "slideshow": {
     "slide_type": "skip"
    }
   },
   "source": [
    "### Noisy Data"
   ]
  },
  {
   "cell_type": "code",
   "execution_count": 10,
   "metadata": {
    "collapsed": false,
    "slideshow": {
     "slide_type": "skip"
    }
   },
   "outputs": [
    {
     "data": {
      "text/plain": [
       "(-3, 3)"
      ]
     },
     "execution_count": 10,
     "metadata": {},
     "output_type": "execute_result"
    },
    {
     "data": {
      "image/png": "[encoded data removed]",
      "text/plain": [
       "<matplotlib.figure.Figure at 0x1d64e81ee10>"
      ]
     },
     "metadata": {},
     "output_type": "display_data"
    }
   ],
   "source": [
    "# create four (4) data points\n",
    "x = np.random.normal(size=4)\n",
    "\n",
    "# true values\n",
    "m_true = 1.4\n",
    "c_true = -3.1\n",
    "\n",
    "# prediction function with true values\n",
    "y = m_true * x + c_true\n",
    "\n",
    "# corrupt them with a bit of Gaussian 'noise' (standard deviation: 0.5)\n",
    "noise = np.random.normal(scale=0.5, size=4)\n",
    "y = m_true * x + c_true + noise\n",
    "plt.plot(x, y, 'r.', markersize=10)\n",
    "plt.xlim([-3, 3])"
   ]
  },
  {
   "cell_type": "markdown",
   "metadata": {
    "slideshow": {
     "slide_type": "slide"
    }
   },
   "source": [
    "### Objective Function using $L^2$-norm\n",
    "\n",
    "A sum of squared errors between real value $y_i$ and the prediction $f(x_i)$:\n",
    "$$\n",
    "    E(m, c) = \\sum_{i=1}^n (y_i - f(x_i))^2 = \\sum_{i=1}^n (y_i - mx_i - c)^2\n",
    "$$\n",
    "\n",
    "### Offset and Slope Gradients\n",
    "\n",
    "\\begin{align}\n",
    "    \\frac{\\partial}{\\partial c} E(m, c) & = -2\\sum_{i=1}^n (y_i - mx_i - c) \\\\\n",
    "    \\frac{\\partial}{\\partial m} E(m, c) & = -2\\sum_{i=1}^n x_i(y_i - mx_i - c)\n",
    "\\end{align}"
   ]
  },
  {
   "cell_type": "markdown",
   "metadata": {
    "slideshow": {
     "slide_type": "skip"
    }
   },
   "source": [
    "### Contour Plot of Objective Function"
   ]
  },
  {
   "cell_type": "code",
   "execution_count": 11,
   "metadata": {
    "collapsed": false,
    "slideshow": {
     "slide_type": "skip"
    }
   },
   "outputs": [],
   "source": [
    "# create an array of linearly separated values around m_true/c_true\n",
    "m_vals = np.linspace(m_true-3, m_true+3, 100)\n",
    "c_vals = np.linspace(c_true-3, c_true+3, 100)\n",
    "\n",
    "# create a grid of values to evaluate the error function in 2D\n",
    "m_grid, c_grid = np.meshgrid(m_vals, c_vals)\n",
    "\n",
    "# compute the error function at each combination of c and m\n",
    "E_grid = np.zeros((100, 100))\n",
    "for i in range(100):\n",
    "    for j in range(100):\n",
    "        E_grid[i, j] = ((y - m_grid[i, j] * x - c_grid[i, j])**2).sum()\n",
    "\n",
    "# define a function for contour plot\n",
    "def regression_contour(f, ax, m_vals, c_vals, E_grid):\n",
    "    hcont = ax.contour(m_vals, c_vals, E_grid, levels=[0, 0.5, 1, 2, 4, 8, 16, 32, 64])\n",
    "    plt.clabel(hcont, inline=1, fontsize=15)\n",
    "    ax.set_xlabel('$m$', fontsize=25)\n",
    "    ax.set_ylabel('$c$', fontsize=25)"
   ]
  },
  {
   "cell_type": "markdown",
   "metadata": {
    "slideshow": {
     "slide_type": "slide"
    }
   },
   "source": [
    "### Gradient Descent: Updating $c$ and $m$\n",
    "\n",
    "The step size is known as the learning rate $\\eta$:\n",
    "\n",
    "\\begin{align*}\n",
    "    c_\\text{new} & = c - \\eta \\frac{\\partial}{\\partial c} E(m, c) = c + 2\\eta\\sum_{i=1}^n (y_i - mx_i - c) \\\\\n",
    "    m_\\text{new} & = m - \\eta \\frac{\\partial}{\\partial m} E(m, c) = m + 2\\eta\\sum_{i=1}^n x_i(y_i - mx_i - c)\n",
    "\\end{align*}"
   ]
  },
  {
   "cell_type": "markdown",
   "metadata": {
    "slideshow": {
     "slide_type": "skip"
    }
   },
   "source": [
    "### Gradient at Initial Position"
   ]
  },
  {
   "cell_type": "code",
   "execution_count": 12,
   "metadata": {
    "collapsed": false,
    "slideshow": {
     "slide_type": "skip"
    }
   },
   "outputs": [],
   "source": [
    "# initial values\n",
    "m_star = 0.0\n",
    "c_star = -5.0\n",
    "\n",
    "# offset and slope gradients\n",
    "c_grad = -2 * (y - m_star * x - c_star).sum()\n",
    "m_grad = -2 * (x * (y - m_star * x - c_star)).sum()"
   ]
  },
  {
   "cell_type": "code",
   "execution_count": 14,
   "metadata": {
    "collapsed": false,
    "slideshow": {
     "slide_type": "slide"
    }
   },
   "outputs": [
    {
     "data": {
      "text/plain": [
       "<matplotlib.patches.FancyArrow at 0x1d64e8af048>"
      ]
     },
     "execution_count": 14,
     "metadata": {},
     "output_type": "execute_result"
    },
    {
     "data": {
      "image/png": "[encoded data removed]",
      "text/plain": [
       "<matplotlib.figure.Figure at 0x1d64e85c048>"
      ]
     },
     "metadata": {},
     "output_type": "display_data"
    }
   ],
   "source": [
    "f, ax = plt.subplots(figsize=(8,6))\n",
    "regression_contour(f, ax, m_vals, c_vals, E_grid)\n",
    "ax.plot(m_star, c_star, 'g*', markersize=20)  # current position\n",
    "ax.arrow(m_star, c_star, -m_grad*0.01, -c_grad*0.01, head_width=0.2)  # direction of the gradient"
   ]
  },
  {
   "cell_type": "markdown",
   "metadata": {
    "slideshow": {
     "slide_type": "slide"
    }
   },
   "source": [
    "### Stochastic Gradient Descent: Updating $c$ and $m$\n",
    "\n",
    "Each data point is presented in a random order:\n",
    "\n",
    "\\begin{align}\n",
    "    c_\\text{new} & = c + 2\\eta (y_i - mx_i - c) \\\\\n",
    "    m_\\text{new} & = m + 2\\eta x_i (y_i - mx_i - c)\n",
    "\\end{align}"
   ]
  },
  {
   "cell_type": "code",
   "execution_count": null,
   "metadata": {
    "collapsed": true,
    "slideshow": {
     "slide_type": "slide"
    }
   },
   "outputs": [],
   "source": [
    "def objective_gradient(Y, U, V):\n",
    "    gU = pd.DataFrame(np.zeros((U.shape)), index=U.index)\n",
    "    gV = pd.DataFrame(np.zeros((V.shape)), index=V.index)\n",
    "    obj = 0.\n",
    "    for ind, series in Y.iterrows():\n",
    "        film = series['index']\n",
    "        user = series['user']\n",
    "        rating = series['rating']\n",
    "        prediction = np.dot(U.loc[user], V.loc[film]) \n",
    "        diff = prediction - rating\n",
    "        obj += diff*diff\n",
    "        gU.loc[user] += 2*diff*V.loc[film]\n",
    "        gV.loc[film] += 2*diff*U.loc[user]\n",
    "    return obj, gU, gV\n",
    "\n",
    "learn_rate = 0.01\n",
    "iterations = 100\n",
    "for i in range(iterations):\n",
    "    obj, gU, gV = objective_gradient(Y, U, V)\n",
    "    print(\"iteration\", i+1, \" objective function:\", obj)\n",
    "    U -= learn_rate*gU\n",
    "    V -= learn_rate*gV"
   ]
  },
  {
   "cell_type": "code",
   "execution_count": null,
   "metadata": {
    "collapsed": true,
    "slideshow": {
     "slide_type": "slide"
    }
   },
   "outputs": [],
   "source": [
    "def stochastic_gradient(Y, U, V, learn_rate):\n",
    "    Y = Y.iloc[np.random.permutation(len(Y))]  # shuffling the dataset\n",
    "    gU = pd.DataFrame(np.zeros((U.shape)), index=U.index)\n",
    "    gV = pd.DataFrame(np.zeros((V.shape)), index=V.index)\n",
    "    obj = 0.\n",
    "    for ind, series in Y.iterrows():\n",
    "        film = series['index']\n",
    "        user = series['user']\n",
    "        rating = series['rating']\n",
    "        prediction = np.dot(U.loc[user], V.loc[film])\n",
    "        diff = prediction - rating\n",
    "        obj += diff*diff\n",
    "        gU.loc[user] += 2*diff*V.loc[film]  # accumulating gradients\n",
    "        gV.loc[film] += 2*diff*U.loc[user]\n",
    "        U.loc[user] -= learn_rate*gU.loc[user]  # updating parameters\n",
    "        V.loc[film] -= learn_rate*gV.loc[film]\n",
    "    return obj, gU, gV\n",
    "\n",
    "learn_rate = 0.01\n",
    "iterations = 100\n",
    "for i in range(iterations):\n",
    "    obj, gU, gV = objective_gradient(Y, U, V, learn_rate)\n",
    "    print(\"iteration\", i+1, \" objective function:\", obj)"
   ]
  },
  {
   "cell_type": "code",
   "execution_count": null,
   "metadata": {
    "collapsed": true,
    "slideshow": {
     "slide_type": "slide"
    }
   },
   "outputs": [],
   "source": [
    "def stochastic_gradient(Y, U, V, learn_rate):\n",
    "    Y = Y.iloc[np.random.permutation(len(Y))]  # shuffling the dataset\n",
    "    obj = 0.\n",
    "    for ind, series in Y.iterrows():\n",
    "        film = series['index']\n",
    "        user = series['user']\n",
    "        rating = series['rating']\n",
    "        prediction = np.dot(U.loc[user], V.loc[film])\n",
    "        diff = prediction - rating\n",
    "        obj += diff*diff\n",
    "        U.loc[user] -= learn_rate*2*diff*V.loc[film]  # updating parameters\n",
    "        V.loc[film] -= learn_rate*2*diff*U.loc[user]\n",
    "    return obj, U, V\n",
    "\n",
    "learn_rate = 0.01\n",
    "iterations = 100\n",
    "for i in range(iterations):\n",
    "    obj, U, V = objective_gradient(Y, U, V, learn_rate)\n",
    "    print(\"iteration\", i+1, \" objective function:\", obj)"
   ]
  }
 ],
 "metadata": {
  "celltoolbar": "Slideshow",
  "kernelspec": {
   "display_name": "Python 3",
   "language": "python",
   "name": "python3"
  },
  "language_info": {
   "codemirror_mode": {
    "name": "ipython",
    "version": 3
   },
   "file_extension": ".py",
   "mimetype": "text/x-python",
   "name": "python",
   "nbconvert_exporter": "python",
   "pygments_lexer": "ipython3",
   "version": "3.5.2"
  }
 },
 "nbformat": 4,
 "nbformat_minor": 0
}
