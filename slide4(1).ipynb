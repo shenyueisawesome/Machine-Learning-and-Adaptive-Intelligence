{
 "cells": [
  {
   "cell_type": "markdown",
   "metadata": {
    "slideshow": {
     "slide_type": "slide"
    }
   },
   "source": [
    "### week 4\n",
    "\n",
    "# Basis Functions\n",
    "\n",
    "- nonlinear regression\n",
    "- basis functions\n",
    "- multivariate nonlinear regression"
   ]
  },
  {
   "cell_type": "code",
   "execution_count": 1,
   "metadata": {
    "collapsed": false,
    "slideshow": {
     "slide_type": "skip"
    }
   },
   "outputs": [],
   "source": [
    "import pods\n",
    "import notebook as nb\n",
    "import mlai\n",
    "import numpy as np\n",
    "import scipy as sp\n",
    "from matplotlib import pyplot as plt\n",
    "%matplotlib inline"
   ]
  },
  {
   "cell_type": "markdown",
   "metadata": {
    "slideshow": {
     "slide_type": "slide"
    }
   },
   "source": [
    "### Review and Preview\n",
    "\n",
    "- Last week we explored least squares for univariate and multivariate regression\n",
    "- Normal (Gaussian) distribution, likelihood, matrices, linear algebra and derivatives were also looked at\n",
    "- This week we introduce *basis functions* for nonlinear regression models that are linear in parameters"
   ]
  },
  {
   "cell_type": "markdown",
   "metadata": {
    "slideshow": {
     "slide_type": "slide"
    }
   },
   "source": [
    "### Nonlinear Regression\n",
    "\n",
    "Linear regression may not produce a suitable model where each input, $x$, is not linearly related to the outcome, $y$.\n",
    "\n",
    "A potential solution is to create a feature space and define $\\phi(x)$ where $\\phi(\\cdot)$ is a nonlinear function of $x$.\n",
    "\n",
    "Model for target is a linear combination of these nonlinear functions:\n",
    "$$\n",
    "  f(x) = \\sum_{j=0}^m w_j \\phi_j(x)\n",
    "$$\n",
    "\n",
    "Wikipedia: [Nonlinear regression](https://en.wikipedia.org/wiki/Nonlinear_regression)"
   ]
  },
  {
   "cell_type": "markdown",
   "metadata": {
    "slideshow": {
     "slide_type": "slide"
    }
   },
   "source": [
    "### Polynomial Basis\n",
    "\n",
    "Basis functions can be **global**.\n",
    "\n",
    "(eg) quadratic (ie, squared) basis is a linear combination of the basis functions $1$, $x$ and $x^2$ :\n",
    "$$\n",
    "  \\phi_j(x) = (1, x, x^2)\n",
    "$$"
   ]
  },
  {
   "cell_type": "code",
   "execution_count": 2,
   "metadata": {
    "collapsed": false,
    "slideshow": {
     "slide_type": "slide"
    }
   },
   "outputs": [
    {
     "data": {
      "text/html": [
       "<img src='./diagrams/polynomial_basis002.svg'>"
      ],
      "text/plain": [
       "<IPython.core.display.HTML object>"
      ]
     },
     "metadata": {},
     "output_type": "display_data"
    }
   ],
   "source": [
    "nb.display_plots('polynomial_basis{num_basis:0>3}.svg', directory='./diagrams', num_basis=(1,3))"
   ]
  },
  {
   "cell_type": "markdown",
   "metadata": {
    "slideshow": {
     "slide_type": "slide"
    }
   },
   "source": [
    "### Function using Polynomial Basis\n",
    "\n",
    "Functions may be derived from quadratic basis:\n",
    "$$\n",
    "  f(x) = w_0 + w_1 x + w_2 x^2\n",
    "$$\n",
    "\n",
    "(next graph) example for $f(x)$ (thick line) with randomly generated $(w_0, w_1, w_2)$ and a set of basis functions (thin lines)"
   ]
  },
  {
   "cell_type": "code",
   "execution_count": 3,
   "metadata": {
    "collapsed": false,
    "slideshow": {
     "slide_type": "slide"
    }
   },
   "outputs": [
    {
     "data": {
      "image/png": "[encoded data removed]",
      "text/plain": [
       "<matplotlib.figure.Figure at 0x1ea4cd90a20>"
      ]
     },
     "metadata": {},
     "output_type": "display_data"
    }
   ],
   "source": [
    "f, ax = plt.subplots(figsize=(7, 7))\n",
    "loc =[[0, 1.2], [-0.8, -1.4], [-0.8, 1.8]]\n",
    "text =['$\\phi(x) = 1$', '$\\phi(x) = x$', '$\\phi(x) = x^2$']\n",
    "mlai.plot_basis(mlai.polynomial, x_min=-1.3, x_max=1.3, fig=f, ax=ax, loc=loc, text=text)"
   ]
  },
  {
   "cell_type": "code",
   "execution_count": 4,
   "metadata": {
    "collapsed": false,
    "slideshow": {
     "slide_type": "slide"
    }
   },
   "outputs": [
    {
     "data": {
      "text/html": [
       "<img src='./diagrams/polynomial_function002.svg'>"
      ],
      "text/plain": [
       "<IPython.core.display.HTML object>"
      ]
     },
     "metadata": {},
     "output_type": "display_data"
    }
   ],
   "source": [
    "nb.display_plots('polynomial_function{func_num:0>3}.svg', directory='./diagrams', func_num=(1,3))"
   ]
  },
  {
   "cell_type": "markdown",
   "metadata": {
    "slideshow": {
     "slide_type": "slide"
    }
   },
   "source": [
    "### Radial Basis\n",
    "\n",
    "Basis functions can be **local**.\n",
    "\n",
    "(eg) radial (or Gaussian) basis : $\\phi_j(x) = \\exp\\left( -\\frac{(x - \\mu_j)^2}{\\ell^2} \\right)$\n"
   ]
  },
  {
   "cell_type": "code",
   "execution_count": 5,
   "metadata": {
    "collapsed": false,
    "slideshow": {
     "slide_type": "slide"
    }
   },
   "outputs": [
    {
     "data": {
      "text/html": [
       "<img src='./diagrams/radial_basis002.svg'>"
      ],
      "text/plain": [
       "<IPython.core.display.HTML object>"
      ]
     },
     "metadata": {},
     "output_type": "display_data"
    }
   ],
   "source": [
    "nb.display_plots('radial_basis{num_basis:0>3}.svg', directory='./diagrams', num_basis=(1,3))"
   ]
  },
  {
   "cell_type": "markdown",
   "metadata": {
    "slideshow": {
     "slide_type": "slide"
    }
   },
   "source": [
    "### Function using Radial Basis\n",
    "\n",
    "Functions may be derived from radial basis:\n",
    "$$\n",
    "  f(x) = w_0 e^{-2(x+1)^2}  + w_1 e^{-2x^2} + w_2 e^{-2(x-1)^2}\n",
    "$$\n",
    "\n",
    "(next graph) example for $f(x)$ (thick line) with randomly generated $(w_0, w_1, w_2)$ and a set of basis functions (thin lines)"
   ]
  },
  {
   "cell_type": "code",
   "execution_count": 6,
   "metadata": {
    "collapsed": false,
    "slideshow": {
     "slide_type": "skip"
    }
   },
   "outputs": [
    {
     "data": {
      "image/png": "[encoded data removed]",
      "text/plain": [
       "<matplotlib.figure.Figure at 0x1ea4e3c74e0>"
      ]
     },
     "metadata": {},
     "output_type": "display_data"
    }
   ],
   "source": [
    "f, ax = plt.subplots(figsize=(7, 7))\n",
    "loc = [[-1.25, -0.4], [0., 1.25], [1.25, -0.4]]\n",
    "text = ['$\\phi_1(x) = e^{-(x + 1)^2}$', '$\\phi_2(x) = e^{-2x^2}$', '$\\phi_3(x) = e^{-2(x-1)^2}$']\n",
    "mlai.plot_basis(mlai.radial, x_min=-2, x_max=2, fig=f, ax=ax, loc=loc, text=text)"
   ]
  },
  {
   "cell_type": "code",
   "execution_count": 7,
   "metadata": {
    "collapsed": false,
    "slideshow": {
     "slide_type": "slide"
    }
   },
   "outputs": [
    {
     "data": {
      "text/html": [
       "<img src='./diagrams/radial_function002.svg'>"
      ],
      "text/plain": [
       "<IPython.core.display.HTML object>"
      ]
     },
     "metadata": {},
     "output_type": "display_data"
    }
   ],
   "source": [
    "nb.display_plots('radial_function{func_num:0>3}.svg', directory='./diagrams', func_num=(1,3))"
   ]
  },
  {
   "cell_type": "markdown",
   "metadata": {
    "slideshow": {
     "slide_type": "slide"
    }
   },
   "source": [
    "### Basis Function Models\n",
    "\n",
    "The prediction function is now defined as\n",
    "$$\n",
    "  f(x_i) = \\sum_{j=0}^m w_j \\phi_j(x_i)\n",
    "$$\n",
    "which is in vector notation:\n",
    "$$\n",
    "  f(x_i) = \\mathbf{w}^\\top \\boldsymbol{\\phi}_i\n",
    "$$\n",
    "\n",
    "where $ \\mathbf{w} = \\left(\\begin{array}{c} w_0 \\\\ \\vdots \\\\ w_m \\end{array}\\right)$ and $\\boldsymbol{\\phi}_i = \\left(\\begin{array}{c} \\phi_0(x_i) \\\\ \\vdots \\\\ \\phi_m(x_i) \\end{array}\\right)$ .\n",
    "\n",
    "Wikipedia: [Basis function](https://en.wikipedia.org/wiki/Basis_function)"
   ]
  },
  {
   "cell_type": "markdown",
   "metadata": {
    "slideshow": {
     "slide_type": "slide"
    }
   },
   "source": [
    "### Multivariate Nonlinear Regression using Basis Function\n",
    "\n",
    "Likelihood of a single **data point**:\n",
    "$$\n",
    "  p(y_i | x_i) = \\frac{1}{\\sqrt{2\\pi\\sigma^2}} \\exp\\left( -\\frac{(y_i - \\mathbf{w}^\\top \\boldsymbol{\\phi}_i)^2}{2\\sigma^2} \\right)\n",
    "$$\n",
    "\n",
    "Log likelihood for a **data set**:\n",
    "\\begin{align*}\n",
    "  \\mathcal{L}(\\mathbf{w},\\sigma^2) = & \\log\\prod_{i=1}^n p(y_i | x_i) \\\\\n",
    "  = & - \\frac{n}{2}\\log 2\\pi - \\frac{n}{2}\\log\\sigma^2 - \\sum_{i=1}^n \\frac{(y_i - \\mathbf{w}^\\top \\boldsymbol{\\phi}_i)^2}{2\\sigma^2}\n",
    "\\end{align*}"
   ]
  },
  {
   "cell_type": "markdown",
   "metadata": {
    "slideshow": {
     "slide_type": "slide"
    }
   },
   "source": [
    "### Error Function with Basis Function\n",
    "\n",
    "\\begin{align*}\n",
    "  & E(\\mathbf{w},\\sigma^2) \\\\\n",
    "  & = \\frac{n}{2}\\log\\sigma^2 + \\sum_{i=1}^n \\frac{(y_i - \\mathbf{w}^\\top \\boldsymbol{\\phi}_i)^2}{2\\sigma^2} \\\\\n",
    "  & = \\frac{n}{2}\\log\\sigma^2 + \\frac{1}{2\\sigma^2} \\sum_{i=1}^n y_i^2 - \\frac{1}{\\sigma^2} \\sum_{i=1}^n y_i \\mathbf{w}^\\top \\boldsymbol{\\phi}_i + \\frac{1}{2\\sigma^2} \\sum_{i=1}^n \\mathbf{w}^\\top \\boldsymbol{\\phi}_i \\boldsymbol{\\phi}_i^\\top \\mathbf{w} \\\\\n",
    "  & = \\frac{n}{2}\\log\\sigma^2 + \\frac{1}{2\\sigma^2} \\sum_{i=1}^n y_i^2 - \\frac{1}{\\sigma^2} \\mathbf{w}^\\top \\sum_{i=1}^n \\boldsymbol{\\phi}_i y_i + \\frac{1}{2\\sigma^2} \\mathbf{w}^\\top \\left(\\sum_{i=1}^n \\boldsymbol{\\phi}_i \\boldsymbol{\\phi}_i^\\top \\right)\\mathbf{w}\n",
    "\\end{align*}"
   ]
  },
  {
   "cell_type": "markdown",
   "metadata": {
    "slideshow": {
     "slide_type": "slide"
    }
   },
   "source": [
    "### Coordinate Descent with Basis Function\n",
    "\n",
    "Differentiate with respect to the vector $\\mathbf{w}$,\n",
    "\n",
    "$$\n",
    "  \\frac{\\partial E(\\mathbf{w},\\sigma^2)}{\\partial \\mathbf{w}} = \\frac{1}{\\sigma^2} \\sum_{i=1}^n \\boldsymbol{\\phi}_i y_i - \\frac{1}{\\sigma^2} \\left(\\sum_{i=1}^n \\boldsymbol{\\phi}_i \\boldsymbol{\\phi}_i^\\top\\right) \\mathbf{w}\n",
    "$$\n",
    "then set $\\frac{\\partial E(\\mathbf{w},\\sigma^2)}{\\partial \\mathbf{w}} = 0$ and get\n",
    "$$\n",
    "  \\mathbf{w}^* = \\left(\\sum_{i=1}^n \\boldsymbol{\\phi}_i \\boldsymbol{\\phi}_i^\\top\\right)^{-1} \\sum_{i=1}^n \\boldsymbol{\\phi}_i y_i\n",
    "$$"
   ]
  },
  {
   "cell_type": "markdown",
   "metadata": {
    "slideshow": {
     "slide_type": "slide"
    }
   },
   "source": [
    "### Matrix Notation for Multiple Data Points\n",
    "\n",
    "First recall that for a single data point:\n",
    "- weights and basis functions are both column vectors with $m$ elements:\n",
    "$$\n",
    "  \\mathbf{w} = \\left(\\begin{array}{c} w_0 \\\\ \\vdots \\\\ w_m \\end{array}\\right) \\qquad\n",
    "  \\boldsymbol{\\phi}_i = \\left(\\begin{array}{c} \\phi_0(x_i) \\\\ \\vdots \\\\ \\phi_m(x_i) \\end{array}\\right)\n",
    "$$"
   ]
  },
  {
   "cell_type": "markdown",
   "metadata": {
    "slideshow": {
     "slide_type": "slide"
    }
   },
   "source": [
    "### Matrix Notation for Multiple Data Points\n",
    "\n",
    "For a set of $n$ data points, $(x_1,y_1), \\ldots, (x_n,y_n)$ :\n",
    "- outcomes are presented in a vector\n",
    "- basis functions with multiple inputs are given by an $n\\times m$ matrix:\n",
    "$$\n",
    "  \\mathbf{y} = \\left(\\begin{array}{c} y_1 \\\\ \\vdots \\\\ y_n \\end{array}\\right) \\qquad\n",
    "  \\boldsymbol{\\Phi} = \\left(\\begin{array}{c}\n",
    "    \\boldsymbol{\\phi}_1^\\top \\\\\n",
    "    \\vdots \\\\\n",
    "    \\boldsymbol{\\phi}_n^\\top\n",
    "  \\end{array}\\right) = \\left(\\begin{array}{ccc}\n",
    "    \\phi_0(x_1) & \\dots & \\phi_m(x_1) \\\\\n",
    "    \\vdots      &       & \\vdots \\\\\n",
    "    \\phi_0(x_n) & \\dots & \\phi_m(x_n)\n",
    "  \\end{array}\\right)\n",
    "$$"
   ]
  },
  {
   "cell_type": "markdown",
   "metadata": {
    "slideshow": {
     "slide_type": "slide"
    }
   },
   "source": [
    "### Update Equations with Basis Function\n",
    "\n",
    "Rewrite in matrix notation:\n",
    "\\begin{align*}\n",
    "  \\sum_{i=1}^n \\boldsymbol{\\phi}_i \\boldsymbol{\\phi}_i^\\top \\buildrel\\triangle\\over = & \\boldsymbol{\\Phi}^\\top \\boldsymbol{\\Phi} \\\\\n",
    "  \\sum_{i=1}^n \\boldsymbol{\\phi}_i y_i \\buildrel\\triangle\\over = & \\boldsymbol{\\Phi}^\\top \\mathbf{y}\n",
    "\\end{align*}\n",
    "\n",
    "Find updates for $\\mathbf{w}$ and $\\sigma^2$ :\n",
    "\\begin{align*}\n",
    "  \\mathbf{w}^* = & (\\boldsymbol{\\Phi}^\\top \\boldsymbol{\\Phi})^{-1} \\boldsymbol{\\Phi}^\\top \\mathbf{y} \\\\\n",
    "  (\\sigma^2)^* = & \\frac{1}{n} \\sum_{i=1}^n (y_i - (\\mathbf{w}^*)^\\top \\boldsymbol{\\phi}_i)^2\n",
    "\\end{align*}"
   ]
  },
  {
   "cell_type": "markdown",
   "metadata": {
    "slideshow": {
     "slide_type": "slide"
    }
   },
   "source": [
    "### Solving for $\\mathbf{w}$ ...\n",
    "\n",
    "We may want to avoid direct inverse calculation.\n",
    "\n",
    "(eg) Rewrite\n",
    "$$\n",
    "  (\\boldsymbol{\\Phi}^\\top \\boldsymbol{\\Phi})\\mathbf{w} = \\boldsymbol{\\Phi}^\\top \\mathbf{y}\n",
    "$$\n",
    "then use `np.linalg.solve` .\n",
    "\n",
    "We may also consider use of **QR decomposition** - see lab class notes.\n",
    "\n",
    "Wikipedia: [QR decomposition](https://en.wikipedia.org/wiki/QR_decomposition)"
   ]
  }
 ],
 "metadata": {
  "celltoolbar": "Slideshow",
  "kernelspec": {
   "display_name": "Python 3",
   "language": "python",
   "name": "python3"
  },
  "language_info": {
   "codemirror_mode": {
    "name": "ipython",
    "version": 3
   },
   "file_extension": ".py",
   "mimetype": "text/x-python",
   "name": "python",
   "nbconvert_exporter": "python",
   "pygments_lexer": "ipython3",
   "version": "3.5.2"
  }
 },
 "nbformat": 4,
 "nbformat_minor": 0
}
