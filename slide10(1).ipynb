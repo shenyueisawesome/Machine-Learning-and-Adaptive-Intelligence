{
 "cells": [
  {
   "cell_type": "markdown",
   "metadata": {
    "slideshow": {
     "slide_type": "slide"
    }
   },
   "source": [
    "### week 10\n",
    "\n",
    "# Logistic Regression\n",
    "\n",
    "- link function\n",
    "- logistic regression\n",
    "- generalized linear models (GLMs)"
   ]
  },
  {
   "cell_type": "code",
   "execution_count": 1,
   "metadata": {
    "collapsed": false,
    "slideshow": {
     "slide_type": "skip"
    }
   },
   "outputs": [],
   "source": [
    "import pods\n",
    "import notebook as nb\n",
    "import mlai\n",
    "import numpy as np\n",
    "import scipy as sp\n",
    "from matplotlib import pyplot as plt\n",
    "%matplotlib inline"
   ]
  },
  {
   "cell_type": "markdown",
   "metadata": {
    "slideshow": {
     "slide_type": "slide"
    }
   },
   "source": [
    "### Review and Preview\n",
    "\n",
    "- last week we saw class conditional distributions, $p(\\mathbf{x}_i | y_i, \\boldsymbol{\\theta})$\n",
    "- Bayes classifier + naive Bayes model specified a joint distribution $p(\\mathbf{X}, \\mathbf{y})$\n",
    "- Bayes rule was used to compute the posterior probability of a class membership\n",
    "- this week we study direct estimation of probability of a class membership\n",
    "- generalised linear models (GLMs) are also introduced"
   ]
  },
  {
   "cell_type": "markdown",
   "metadata": {
    "slideshow": {
     "slide_type": "slide"
    }
   },
   "source": [
    "### Log Odds\n",
    "\n",
    "The odds are defined as the ratio of the probability of a positive outcome, to the probability of a negative outcome.\n",
    "- odds are calculated as $\\frac{\\pi}{1-\\pi}$ where $\\pi$ denotes the probability of a positive outcome\n",
    "- as a probability is always between zero and one, the odds are always between $0$ and $\\infty$ (odds can never be negative)\n",
    "- logarithm of odds maps them to $-\\infty$ to $\\infty$\n",
    "\n",
    "Wikipedia: [Odds](https://en.wikipedia.org/wiki/Odds)"
   ]
  },
  {
   "cell_type": "markdown",
   "metadata": {
    "slideshow": {
     "slide_type": "slide"
    }
   },
   "source": [
    "### Link Function\n",
    "\n",
    "The **logit function** is used as a link function $g^{-1}(\\cdot)$ :\n",
    "$$\n",
    "  g^{-1}(\\pi_i) = \\log\\frac{\\pi_i}{1-\\pi_i}\n",
    "$$\n",
    "\n",
    "- recall that, for standard regression, we had $f(\\mathbf{x}_i) = \\mathbf{w}^\\top \\boldsymbol{\\phi}(\\mathbf{x}_i)$\n",
    "\n",
    "- for classification we perform a **logistic regression** of the form:\n",
    "$$g^{-1}(\\pi_i) = \\mathbf{w}^\\top \\boldsymbol{\\phi}(\\mathbf{x}_i)$$\n",
    "\n",
    "Wikipedia: [Logit](http://en.wikipedia.org/wiki/Logit)"
   ]
  },
  {
   "cell_type": "markdown",
   "metadata": {
    "slideshow": {
     "slide_type": "slide"
    }
   },
   "source": [
    "### Inverse Link Function\n",
    "\n",
    "We write $\\pi_i$ in terms of the inverse link function $g(\\cdot)$ :\n",
    "$$\n",
    "  \\pi(\\mathbf{x}_i) = g\\left( \\mathbf{w}^\\top \\boldsymbol{\\phi}(\\mathbf{x}_i) \\right)\n",
    "$$\n",
    "where $\\pi_i \\buildrel\\triangle\\over = \\pi(\\mathbf{x}_i)$, which is the probability of positive outcome for the $i^{th}$ data point.\n",
    "\n",
    "- $\\pi(\\mathbf{x}) = g\\left( \\mathbf{w}^\\top \\boldsymbol{\\phi}(\\mathbf{x}) \\right)$ for a set of data points\n",
    "\n",
    "Wikipedia: [Logistic regression](https://en.wikipedia.org/wiki/Logistic_regression)"
   ]
  },
  {
   "cell_type": "markdown",
   "metadata": {
    "slideshow": {
     "slide_type": "slide"
    }
   },
   "source": [
    "### Logistic Function\n",
    "\n",
    "Logistic function (or **sigmoid function**) squashes real line to between zero and one:\n",
    "$$\n",
    "  g(f_i) = \\frac{1}{1+\\exp(-f_i)}\n",
    "$$\n",
    "\n",
    "Wikipedia: [Logistic function](http://en.wikipedia.org/wiki/Logistic_function)\n",
    "\n",
    "(next graph) plot for a logistic function"
   ]
  },
  {
   "cell_type": "code",
   "execution_count": 2,
   "metadata": {
    "collapsed": false,
    "slideshow": {
     "slide_type": "slide"
    }
   },
   "outputs": [
    {
     "data": {
      "image/png": "[encoded data removed]",
      "text/plain": [
       "<matplotlib.figure.Figure at 0x246995a0588>"
      ]
     },
     "metadata": {},
     "output_type": "display_data"
    }
   ],
   "source": [
    "fig, ax = plt.subplots(figsize=(10,5))\n",
    "f = np.linspace(-8, 8, 100)\n",
    "g = 1/(1+np.exp(-f))\n",
    "\n",
    "ax.plot(f, g, 'r-', linewidth=3)\n",
    "ax.set_title('Logistic Function', fontsize=20)\n",
    "ax.set_xlabel('$f_i$', fontsize=20)\n",
    "ax.set_ylabel('$g_i$', fontsize=20)\n",
    "plt.savefig('./diagrams/logistic.svg')"
   ]
  },
  {
   "cell_type": "markdown",
   "metadata": {
    "slideshow": {
     "slide_type": "slide"
    }
   },
   "source": [
    "### Prediction Function\n",
    "\n",
    "By replacing the inverse link with the **logistic function**, we rewrite $\\pi$ as a function of the input and the parameter vector:\n",
    "$$\n",
    "  \\pi(\\mathbf{x},\\mathbf{w}) = \\frac{1}{1 + \\exp\\left( -\\mathbf{w}^\\top \\boldsymbol{\\phi}(\\mathbf{x}) \\right)}\n",
    "$$\n",
    "\n",
    "Process for **logistic regression**:\n",
    "1. (as we did for linear regression) compute the output of a standard linear basis function composition, $\\mathbf{w}^\\top \\boldsymbol{\\phi}(\\mathbf{x})$\n",
    "2. apply the **inverse link function**, $g\\left( \\mathbf{w}^\\top \\boldsymbol{\\phi}(\\mathbf{x}) \\right)$\n",
    "3. use this value in a **Bernoulli distribution** to form the likelihood"
   ]
  },
  {
   "cell_type": "markdown",
   "metadata": {
    "slideshow": {
     "slide_type": "slide"
    }
   },
   "source": [
    "### Likelihood for Bernoulli\n",
    "\n",
    "Recall the Bernoulli distribution:\n",
    "$$\n",
    "  p(y_i | \\mathbf{x}, \\mathbf{w}) = \\pi_i^{y_i} (1-\\pi_i)^{1-y_i}\n",
    "$$\n",
    "Conditional independence of data means\n",
    "$$\n",
    "  p(\\mathbf{y} | \\mathbf{x}, \\mathbf{w})\n",
    "  = \\prod_{i=1}^n P(y_i | \\mathbf{w}, \\mathbf{x}_i)\n",
    "  = \\prod_{i=1}^n \\pi_i^{y_i} (1-\\pi_i)^{1-y_i}\n",
    "$$\n",
    "whose log likelihood is\n",
    "$$\n",
    "  \\log P(\\mathbf{y} | \\mathbf{x}, \\mathbf{w}) = \\sum_{i=1}^n y_i \\log\\pi_i + \\sum_{i=1}^n (1-y_i)\\log(1-\\pi_i)\n",
    "$$"
   ]
  },
  {
   "cell_type": "markdown",
   "metadata": {
    "slideshow": {
     "slide_type": "slide"
    }
   },
   "source": [
    "### Objective Function\n",
    "\n",
    "Note that $\\pi_i = g\\left( \\mathbf{w}^\\top \\boldsymbol{\\phi}(\\mathbf{x}_i) \\right)$ where $g(\\cdot)$ is the **inverse link function**.\n",
    "\n",
    "The objective function is the negative of the log likelihood:\n",
    "$$\n",
    "  E(\\mathbf{w}) = -\\sum_{i=1}^n y_i \\log g\\left( \\mathbf{w}^\\top \\boldsymbol{\\phi}(\\mathbf{x}_i) \\right) - \\sum_{i=1}^n (1-y_i) \\log\\left( 1 - g\\left( \\mathbf{w}^\\top \\boldsymbol{\\phi}(\\mathbf{x}_i) \\right) \\right)\n",
    "$$"
   ]
  },
  {
   "cell_type": "markdown",
   "metadata": {
    "slideshow": {
     "slide_type": "slide"
    }
   },
   "source": [
    "### Gradient\n",
    "\n",
    "The gradient of the inverse link function $g(f_i) = (1 + \\exp(-f_i))^{-1}$ is\n",
    "$$\n",
    "  \\frac{\\partial g(f_i)}{\\partial f_i} = \\exp(-f_i)(1 + \\exp(-f_i))^{-2} = \\frac{1}{1 + \\exp(-f_i)} \\frac{\\exp(-f_i)}{1 + \\exp(-f_i)} = g(f_i)(1-g(f_i))\n",
    "$$\n",
    "\n",
    "Let $f_i = \\mathbf{w}^\\top \\boldsymbol{\\phi}(\\mathbf{x})$, and the gradient of the objective function is\n",
    "\\begin{align*}\n",
    "  \\frac{\\partial E(\\mathbf{w})}{\\partial \\mathbf{w}}\n",
    "  & = -\\sum_{i=1}^n \\frac{y_i}{g(f_i)} \\frac{\\partial g(f_i)}{\\partial f_i} \\frac{\\partial f_i}{\\partial \\mathbf{w}} + \\sum_{i=1}^n \\frac{1-y_i}{1 - g(f_i)} \\frac{\\partial g(f_i)}{\\partial f_i} \\frac{\\partial f_i}{\\partial \\mathbf{w}} \\\\\n",
    "  & = -\\sum_{i=1}^n y_i \\left( 1 - g\\left( \\mathbf{w}^\\top \\boldsymbol{\\phi}(\\mathbf{x})\\right) \\right) \\boldsymbol{\\phi}(\\mathbf{x}_i) + \\sum_{i=1}^n (1-y_i) g\\left( \\mathbf{w}^\\top \\boldsymbol{\\phi}(\\mathbf{x}) \\right) \\boldsymbol{\\phi}(\\mathbf{x}_i)\n",
    "\\end{align*}\n",
    "We can **not** find a stationary point of the objective function **analytically**."
   ]
  },
  {
   "cell_type": "markdown",
   "metadata": {
    "slideshow": {
     "slide_type": "slide"
    }
   },
   "source": [
    "### Numerial Optimisation\n",
    "\n",
    "Failing analytically, optimisation has to proceed by **numerical methods**. \n",
    "- Newton's method\n",
    "- gradient based optimization methods\n",
    "\n",
    "Similarly to matrix factorisation, **stochastic gradient descent** works well for large data.\n",
    "\n",
    "Wikipedia:\n",
    "[Newton's method](http://en.wikipedia.org/wiki/Newton%27s_method) /\n",
    "[Gradient method](http://en.wikipedia.org/wiki/Gradient_method)"
   ]
  },
  {
   "cell_type": "markdown",
   "metadata": {
    "slideshow": {
     "slide_type": "slide"
    }
   },
   "source": [
    "### Example: Ad Matching for Facebook\n",
    "\n",
    "Logistic regression is used in many internet companies.\n",
    "\n",
    "(eg) ad matching for Facebook\n",
    "- millions of advertisers\n",
    "- billions of users\n",
    "\n",
    "How do you choose who to show what?\n",
    "- logistic regression is used in combination with decision trees\n",
    "- reference by [He et al.](http://www.herbrich.me/papers/adclicksfacebook.pdf)"
   ]
  },
  {
   "cell_type": "markdown",
   "metadata": {
    "slideshow": {
     "slide_type": "slide"
    }
   },
   "source": [
    "### Generalized Linear Models (GLMs)\n",
    "\n",
    "Logistic regression is part of a family known as **generalized linear models**.\n",
    "\n",
    "They all take the form:\n",
    "$$\n",
    "  g^{-1}(f_i(x)) = \\mathbf{w}^\\top \\boldsymbol{\\phi}(\\mathbf{x}_i)\n",
    "$$\n",
    "\n",
    "Another example is **Poisson regression**.\n",
    "\n",
    "Wikipedia:\n",
    "[Generalized linear model](https://en.wikipedia.org/wiki/Generalized_linear_model) /\n",
    "[Poisson regression](https://en.wikipedia.org/wiki/Poisson_regression)"
   ]
  },
  {
   "cell_type": "markdown",
   "metadata": {
    "slideshow": {
     "slide_type": "slide"
    }
   },
   "source": [
    "### Poisson Distribution (I)\n",
    "\n",
    "The Poisson distribution is one of the most commonly observed distributions in both natural and social environments.\n",
    "- it is fundamental to the **queueing theory**\n",
    "- under certain conditions the number of occurrences of a certain event during a given period or in a specified region of space follows the Poisson distribution\n",
    "\n",
    "Wikipedia: [Poisson distribution](https://en.wikipedia.org/wiki/Poisson_distribution)"
   ]
  },
  {
   "cell_type": "markdown",
   "metadata": {
    "slideshow": {
     "slide_type": "slide"
    }
   },
   "source": [
    "### Poisson Distribution (II)\n",
    "\n",
    "Poisson distribution is given by\n",
    "$$\n",
    "  p(y) = \\frac{\\lambda^y}{y!}\\exp(-y)\n",
    "$$\n",
    "- $y$ is a non-negative integer\n",
    "- $\\lambda$ is a rate parameter that can be thought of as the number of arrivals per unit time\n",
    "\n",
    "(next graph) Poisson distribution with $\\lambda = 1, 3, 10$"
   ]
  },
  {
   "cell_type": "code",
   "execution_count": 3,
   "metadata": {
    "collapsed": false,
    "slideshow": {
     "slide_type": "slide"
    }
   },
   "outputs": [
    {
     "data": {
      "image/png": "[encoded data removed]",
      "text/plain": [
       "<matplotlib.figure.Figure at 0x246996754e0>"
      ]
     },
     "metadata": {},
     "output_type": "display_data"
    }
   ],
   "source": [
    "from scipy.stats import poisson\n",
    "fig, ax = plt.subplots(figsize=(10,5))\n",
    "y = np.asarray(range(0, 16))\n",
    "p1 = poisson.pmf(y, mu=1.)\n",
    "p3 = poisson.pmf(y, mu=3.)\n",
    "p10 = poisson.pmf(y, mu=10.)\n",
    "\n",
    "ax.plot(y, p1, 'r.-', markersize=20, label='$\\lambda=1$')\n",
    "ax.plot(y, p3, 'g.-', markersize=20, label='$\\lambda=3$')\n",
    "ax.plot(y, p10, 'b.-', markersize=20, label='$\\lambda=10$')\n",
    "ax.set_title('Poisson Distribution', fontsize=20)\n",
    "ax.set_xlabel('$y_i$', fontsize=20)\n",
    "ax.set_ylabel('$p(y_i)$', fontsize=20)\n",
    "ax.legend(fontsize=20)\n",
    "plt.savefig('./diagrams/poisson.svg')"
   ]
  },
  {
   "cell_type": "markdown",
   "metadata": {
    "collapsed": false,
    "slideshow": {
     "slide_type": "slide"
    }
   },
   "source": [
    "### Poisson Regression\n",
    "\n",
    "Poisson regression makes a function of space/time:\n",
    "$$\n",
    "  \\log\\lambda(\\mathbf{x},t) = \\mathbf{w}_x^\\top \\boldsymbol{\\phi}_x(\\mathbf{x}) + \\mathbf{w}_t^\\top \\boldsymbol{\\phi}_t(t)\n",
    "$$\n",
    "\n",
    "- known as a **log linear** or **log additive model**\n",
    "- the link function is a logarithm\n",
    "\n",
    "Rewrite this function as $\\log \\lambda(\\mathbf{x}, t) = f_x(\\mathbf{x}) + f_t(t)$ .\n",
    "\n",
    "- be careful though ... a log additive model is really multiplicative\n",
    "- the above is equivalent to $\\lambda(\\mathbf{x}, t) = \\exp(f_x(\\mathbf{x}))\\exp(f_t(t))$"
   ]
  }
 ],
 "metadata": {
  "celltoolbar": "Slideshow",
  "kernelspec": {
   "display_name": "Python 3",
   "language": "python",
   "name": "python3"
  },
  "language_info": {
   "codemirror_mode": {
    "name": "ipython",
    "version": 3
   },
   "file_extension": ".py",
   "mimetype": "text/x-python",
   "name": "python",
   "nbconvert_exporter": "python",
   "pygments_lexer": "ipython3",
   "version": "3.5.2"
  }
 },
 "nbformat": 4,
 "nbformat_minor": 0
}
