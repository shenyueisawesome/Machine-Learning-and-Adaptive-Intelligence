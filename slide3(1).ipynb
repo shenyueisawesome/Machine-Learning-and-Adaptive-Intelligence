{
 "cells": [
  {
   "cell_type": "markdown",
   "metadata": {
    "slideshow": {
     "slide_type": "slide"
    }
   },
   "source": [
    "### week3\n",
    "\n",
    "# Linear Regression\n",
    "\n",
    "- regression examples\n",
    "- Gaussian (Normal) distribution\n",
    "- likelihood and maximum likelihood estimate\n",
    "- coordinate descent\n",
    "- multivariate regression"
   ]
  },
  {
   "cell_type": "code",
   "execution_count": 1,
   "metadata": {
    "collapsed": false,
    "slideshow": {
     "slide_type": "skip"
    }
   },
   "outputs": [],
   "source": [
    "import pods\n",
    "import notebook as nb\n",
    "import mlai\n",
    "import numpy as np\n",
    "import scipy as sp\n",
    "from matplotlib import pyplot as plt\n",
    "%matplotlib inline"
   ]
  },
  {
   "cell_type": "markdown",
   "metadata": {
    "slideshow": {
     "slide_type": "slide"
    }
   },
   "source": [
    "### Review and Preview\n",
    "\n",
    "- Last week we minimised a sum of squares objective function (ie, least squares) by (steepest) gradient descent and stochastic gradient descent algorithms\n",
    "\n",
    "- This week we explore least squares for univariate and multivariate regression"
   ]
  },
  {
   "cell_type": "markdown",
   "metadata": {
    "slideshow": {
     "slide_type": "slide"
    }
   },
   "source": [
    "### Regression Analysis\n",
    "\n",
    "- statistical process for estimating the relationships among variables\n",
    "- predict a real value, $y_i$, given some input $x_i$\n",
    "\n",
    "Wikipedia: [Regression analysis](https://en.wikipedia.org/wiki/Regression_analysis)"
   ]
  },
  {
   "cell_type": "markdown",
   "metadata": {
    "slideshow": {
     "slide_type": "slide"
    }
   },
   "source": [
    "### Olympic 100m\n",
    "\n",
    "Wikimedia commons: [London 2012 Olympic 100m final start](http://bit.ly/191adDC)\n",
    "\n",
    "Using regression we want to predict a winning time for the next Olympic game.\n",
    "\n",
    "- graph showing gold medal times since 1896 (unit: seconds)"
   ]
  },
  {
   "cell_type": "code",
   "execution_count": 2,
   "metadata": {
    "collapsed": false,
    "slideshow": {
     "slide_type": "slide"
    }
   },
   "outputs": [
    {
     "data": {
      "text/plain": [
       "[<matplotlib.lines.Line2D at 0x18853491f60>]"
      ]
     },
     "execution_count": 2,
     "metadata": {},
     "output_type": "execute_result"
    },
    {
     "data": {
      "image/png": "[encoded data removed]",
      "text/plain": [
       "<matplotlib.figure.Figure at 0x18853491e80>"
      ]
     },
     "metadata": {},
     "output_type": "display_data"
    }
   ],
   "source": [
    "data = pods.datasets.olympic_100m_men()\n",
    "f, ax = plt.subplots(figsize=(7,7))\n",
    "ax.plot(data['X'], data['Y'], 'r.', markersize=10)"
   ]
  },
  {
   "cell_type": "markdown",
   "metadata": {
    "slideshow": {
     "slide_type": "slide"
    }
   },
   "source": [
    "### Olympic Marathon\n",
    "\n",
    "Wikimedia commons: [Stephen Kiprotich at the London 2012 men's Olympic marathon](http://bit.ly/16kMKHQ)\n",
    "\n",
    "Using regression we want to predict a winning time for the next Olympic game.\n",
    "\n",
    "- graph showing gold medal times since 1896 (unit: min per km)\n",
    "- didn’t have a standardised distance before 1924\n",
    "- badly organised in 1904 leading to very slow times"
   ]
  },
  {
   "cell_type": "code",
   "execution_count": 3,
   "metadata": {
    "collapsed": false,
    "slideshow": {
     "slide_type": "slide"
    }
   },
   "outputs": [
    {
     "data": {
      "text/plain": [
       "[<matplotlib.lines.Line2D at 0x188534b5fd0>]"
      ]
     },
     "execution_count": 3,
     "metadata": {},
     "output_type": "execute_result"
    },
    {
     "data": {
      "image/png": "[encoded data removed]",
      "text/plain": [
       "<matplotlib.figure.Figure at 0x188534d2278>"
      ]
     },
     "metadata": {},
     "output_type": "display_data"
    }
   ],
   "source": [
    "data = pods.datasets.olympic_marathon_men()\n",
    "f, ax = plt.subplots(figsize=(7,7))\n",
    "ax.plot(data['X'], data['Y'], 'r.',markersize=10)"
   ]
  },
  {
   "cell_type": "markdown",
   "metadata": {
    "slideshow": {
     "slide_type": "slide"
    }
   },
   "source": [
    "### More Examples for Regression\n",
    "\n",
    "- predict quality of meat given spectral measurements (eg, Tecator Data)\n",
    "- radiocarbon dating, the C14 calibration curve: predict age given quantity of C14 isotope\n",
    "- predict quality of different Go or Backgammon moves given expert rated training data"
   ]
  },
  {
   "cell_type": "markdown",
   "metadata": {
    "slideshow": {
     "slide_type": "slide"
    }
   },
   "source": [
    "### Linear Regression\n",
    "\n",
    "$$y_i = m x_i + c$$\n",
    "\n",
    "Olympic example:\n",
    "\n",
    "- $y_i$ : winning time\n",
    "- $x_i$ : year of Olympics\n",
    "- $m$ : rate of improvement over time\n",
    "- $c$ : winning time at year 0\n",
    "\n",
    "Wikipedia: [Linear regression](https://en.wikipedia.org/wiki/Linear_regression)"
   ]
  },
  {
   "cell_type": "markdown",
   "metadata": {
    "slideshow": {
     "slide_type": "slide"
    }
   },
   "source": [
    "### Overdetermined and Underdetermined Systems\n",
    "\n",
    "Each unknown can be seen as an available degree of freedom, while each equation constrains the system, restricting one degree of freedom.\n",
    "\n",
    "##### Overdetermined system:\n",
    "\n",
    "- the system has been overconstrained\n",
    "- there are more equations than unknowns\n",
    "\n",
    "##### Underdetermined system:\n",
    "\n",
    "- the system has been underconstrained\n",
    "- the number of equations is fewer than the number of unknowns"
   ]
  },
  {
   "cell_type": "markdown",
   "metadata": {
    "slideshow": {
     "slide_type": "slide"
    }
   },
   "source": [
    "### Overdetermined System\n",
    "\n",
    "$$y = mx + c$$\n",
    "\n",
    "point 1: $x = 1$, $y=3$\n",
    "$$3 = m + c$$\n",
    "\n",
    "point 2: $x = 3$, $y=1$\n",
    "$$1 = 3m + c$$\n",
    "\n",
    "point 3: $x = 2$, $y=2.5$\n",
    "$$2.5 = 2m + c$$"
   ]
  },
  {
   "cell_type": "markdown",
   "metadata": {
    "collapsed": false,
    "slideshow": {
     "slide_type": "slide"
    }
   },
   "source": [
    "<img src=\"./figs/overdetermined.svg\", width=700, align=center>"
   ]
  },
  {
   "cell_type": "markdown",
   "metadata": {
    "slideshow": {
     "slide_type": "slide"
    }
   },
   "source": [
    "### Overdetermined System\n",
    "\n",
    "Introduction of a **slack variable** $\\epsilon$ :\n",
    "$$y = mx + c + \\epsilon$$\n",
    "\n",
    "point 1: $x = 1$, $y=3$\n",
    "$$3 = m + c + \\epsilon_1$$\n",
    "\n",
    "point 2: $x = 3$, $y=1$\n",
    "$$1 = 3m + c + \\epsilon_2$$\n",
    "\n",
    "point 3: $x = 2$, $y=2.5$ \n",
    "$$2.5 = 2m + c + \\epsilon_3$$"
   ]
  },
  {
   "cell_type": "markdown",
   "metadata": {
    "slideshow": {
     "slide_type": "slide"
    }
   },
   "source": [
    "### Review: Gaussian (Normal) Distribution\n",
    "\n",
    "$$\n",
    "  p(y | \\mu,\\sigma^2) \\buildrel\\triangle\\over = \\frac{1}{\\sqrt{2\\pi\\sigma^2}} \\exp\\left( -\\frac{(y - \\mu)^2}{2\\sigma^2} \\right)\n",
    "$$\n",
    "- denote this distribution as\n",
    "$$y \\sim \\mathcal{N}(\\mu,\\sigma^2)$$\n",
    "- $\\mu$ is the mean and $\\sigma^2$ is the variance\n",
    "- perhaps the most common/important probability distrution\n",
    "\n",
    "Wikipedia: [Normal distribution](https://en.wikipedia.org/wiki/Normal_distribution)"
   ]
  },
  {
   "cell_type": "markdown",
   "metadata": {
    "slideshow": {
     "slide_type": "slide"
    }
   },
   "source": [
    "### Two Important Gaussian Properties\n",
    "\n",
    "**(1) Sum of Gaussians**\n",
    "\n",
    "The sum of Gaussian variables is also Gaussian.\n",
    "\n",
    "- suppose that $y_i \\sim \\mathcal{N}(\\mu_i, \\sigma_i^2)$, the sum is distributed as\n",
    "$$\\sum_{i=1}^n y_i \\sim \\mathcal{N}\\left(\\sum_{i=1}^n \\mu_i, \\sum_{i=1}^n \\sigma_i^2\\right)$$"
   ]
  },
  {
   "cell_type": "markdown",
   "metadata": {
    "slideshow": {
     "slide_type": "slide"
    }
   },
   "source": [
    "(note) **central limit theorem**\n",
    "\n",
    "As sum increases, sum of non Gaussian, finite variance variables is also Gaussian.\n",
    "\n",
    "Wikipedia: [Central limit theorem](https://en.wikipedia.org/wiki/Central_limit_theorem)"
   ]
  },
  {
   "cell_type": "markdown",
   "metadata": {
    "slideshow": {
     "slide_type": "slide"
    }
   },
   "source": [
    "### Two Important Gaussian Properties\n",
    "\n",
    "**(2) Scaling a Gaussian**\n",
    "\n",
    "Scaling a Gaussian leads to a Gaussian.\n",
    "\n",
    "- suppose that $y \\sim \\mathcal{N}(\\mu, \\sigma^2)$, the scaled (by $w$) density is distributed as\n",
    "$$wy \\sim \\mathcal{N}(w\\mu, w^2\\sigma^2)$$"
   ]
  },
  {
   "cell_type": "markdown",
   "metadata": {
    "slideshow": {
     "slide_type": "slide"
    }
   },
   "source": [
    "### Laplace's Idea\n",
    "\n",
    "Set the mean of Gaussian to be a function:\n",
    "$$\n",
    "  p(y_i|x_i) = \\frac{1}{\\sqrt{2\\pi\\sigma^2}} \\exp\\left( -\\frac{(y_i-f(x_i))^2}{2\\sigma^2} \\right)\n",
    "$$\n",
    "This gives us a *noisy function*.\n",
    "\n",
    "- known as a stochastic process\n",
    "\n",
    "Wikipedia: [Pierre-Simon Laplace](https://en.wikipedia.org/wiki/Pierre-Simon_Laplace)"
   ]
  },
  {
   "cell_type": "markdown",
   "metadata": {
    "slideshow": {
     "slide_type": "slide"
    }
   },
   "source": [
    "### Laplace's Idea\n",
    "\n",
    "- the standard Gaussian is parametised by mean and variance\n",
    "- make the mean a linear function of an *input*\n",
    "\n",
    "This leads to a regression model:\n",
    "$$\n",
    "  y_i = f(x_i) + \\epsilon_i = mx_i + c + \\epsilon_i\n",
    "$$\n",
    "where $\\epsilon_i \\sim \\mathcal{N}(0,\\sigma^2)$.\n",
    "\n",
    "- assume $y_i$ is height and $x_i$ is weight, ie, height is a function of weight"
   ]
  },
  {
   "cell_type": "markdown",
   "metadata": {
    "slideshow": {
     "slide_type": "slide"
    }
   },
   "source": [
    "### Likelihood\n",
    "\n",
    "The likelihood of parameter values $\\theta$ given data $\\mathbf{x}$ is the probability for those observed data given those parameter values:\n",
    "$$\n",
    "  \\mathcal{L}(\\theta|x) = p(x|\\theta)\n",
    "$$\n",
    "\n",
    "Wikipedia: [Likelihood function](https://en.wikipedia.org/wiki/Likelihood_function)"
   ]
  },
  {
   "cell_type": "markdown",
   "metadata": {
    "slideshow": {
     "slide_type": "slide"
    }
   },
   "source": [
    "### Data Point Likelihood\n",
    "\n",
    "Likelihood of an individual data point $(x_i,y_i)$:\n",
    "$$\n",
    "  p(y_i | x_i,m,c,\\sigma^2) = \\frac{1}{\\sqrt{2\\pi\\sigma^2}} \\exp\\left( -\\frac{(y_i-mx_i-c)^2}{2\\sigma^2} \\right)\n",
    "$$\n",
    "\n",
    "- parameters are gradient, $m$, offset, $c$, of the function and noise variance $\\sigma^2$"
   ]
  },
  {
   "cell_type": "markdown",
   "metadata": {
    "slideshow": {
     "slide_type": "slide"
    }
   },
   "source": [
    "### Data Set Likelihood\n",
    "\n",
    "Likelihood for a data set $(\\mathbf{x},\\mathbf{y})$:\n",
    "$$\n",
    "  p(\\mathbf{y} | \\mathbf{x},m,c,\\sigma^2) = \\prod_{i=1}^n p(y_i | x_i,m,c,\\sigma^2)\n",
    "$$\n",
    "for independent variables, ie, assume that\n",
    "\n",
    "- the noise, $\\epsilon_i$ is sampled independently for each data point\n",
    "- given $m$ and $c$, each data point is independent"
   ]
  },
  {
   "cell_type": "markdown",
   "metadata": {
    "slideshow": {
     "slide_type": "slide"
    }
   },
   "source": [
    "(note) **independent and identically distributed (i.i.d.) random variables**\n",
    "\n",
    "Imagine a set of data where each data point (random variable) is independently drawn from the same distribution.\n",
    "\n",
    "- each random variable has the same distribution as others\n",
    "- they would be mutually independent\n",
    "\n",
    "Wikipedia: [Independent and identically distributed random variables](https://en.wikipedia.org/wiki/Independent_and_identically_distributed_random_variables)"
   ]
  },
  {
   "cell_type": "markdown",
   "metadata": {
    "slideshow": {
     "slide_type": "slide"
    }
   },
   "source": [
    "### Likelihood\n",
    "\n",
    "A data set likelihood for **Normally distributed** random variables with the **i.i.d.** assumption:\n",
    "\\begin{align*}\n",
    "  p(\\mathbf{y} | \\mathbf{x},m,c,\\sigma^2)\n",
    "  & = \\prod_{i=1}^n \\frac{1}{\\sqrt{2\\pi\\sigma^2}} \\exp\\left( -\\frac{(y_i-mx_i-c)^2}{2\\sigma^2} \\right) \\\\\n",
    "  & = \\frac{1}{\\left(2\\pi\\sigma^2\\right)^{\\frac{n}{2}}} \\exp\\left( -\\frac{\\sum_{i=1}^n (y_i-mx_i-c)^2}{2\\sigma^2} \\right)\n",
    "\\end{align*}"
   ]
  },
  {
   "cell_type": "markdown",
   "metadata": {
    "slideshow": {
     "slide_type": "slide"
    }
   },
   "source": [
    "### Log Likelihood\n",
    "\n",
    "Often simpler if we work with the log likelihood:\n",
    "\\begin{align*}\n",
    "  \\mathcal{L}(m,c,\\sigma^{2})\n",
    "  & \\buildrel\\triangle\\over = \\log p(\\mathbf{y} | \\mathbf{x},m,c,\\sigma^2) \\\\\n",
    "  & = -\\frac{n}{2}\\log 2\\pi - \\frac{n}{2}\\log\\sigma^2 - \\sum_{i=1}^n \\frac{(y_i-mx_i-c)^2}{2\\sigma^2}\n",
    "\\end{align*}\n",
    "\n",
    "Wikipedia: [Likelihood function](https://en.wikipedia.org/wiki/Likelihood_function)"
   ]
  },
  {
   "cell_type": "markdown",
   "metadata": {
    "slideshow": {
     "slide_type": "slide"
    }
   },
   "source": [
    "### Maximum Likelihood Estimation\n",
    "\n",
    "The aim of maximum likelihood estimation is to find the parameter values $\\theta$ that makes the observed data $\\mathbf{x}$ most likely:\n",
    "$$\n",
    "  \\mathop{\\rm argmax}_{\\theta} \\mathcal{L}(\\theta|x) = \\mathop{\\rm argmax}_{\\theta} p(x|\\theta)\n",
    "$$\n",
    "\n",
    "Wikipedia: [Maximum likelihood estimation](https://en.wikipedia.org/wiki/Maximum_likelihood_estimation)"
   ]
  },
  {
   "cell_type": "markdown",
   "metadata": {
    "slideshow": {
     "slide_type": "slide"
    }
   },
   "source": [
    "### Consistency of Maximum Likelihood\n",
    "\n",
    "Mainstay of classical statistics:\n",
    "\n",
    "- If data was really generated according to probability we specified, correct parameters will be recovered in limit as $n \\rightarrow \\infty$.\n",
    "\n",
    "- This can be proven through sample based approximations (law of large numbers) of *KL divergences*.\n",
    "\n",
    "Wikipedia: [Kullback-Leibler divergence](https://en.wikipedia.org/wiki/Kullback%E2%80%93Leibler_divergence)"
   ]
  },
  {
   "cell_type": "markdown",
   "metadata": {
    "slideshow": {
     "slide_type": "slide"
    }
   },
   "source": [
    "(note) **law of large numbers**\n",
    "\n",
    "The number of i.i.d. random variables increases, their sample mean approaches their theoretical mean.\n",
    "\n",
    "(In other words, the number of trials increases, the outcomes will converge on the expected value.)\n",
    "\n",
    "Wikipedia: [Law of large numbers](https://en.wikipedia.org/wiki/Law_of_large_numbers)"
   ]
  },
  {
   "cell_type": "markdown",
   "metadata": {
    "slideshow": {
     "slide_type": "slide"
    }
   },
   "source": [
    "### Error Function\n",
    "\n",
    "Define an error function (objective function):\n",
    "$$\n",
    "  E(m,c,\\sigma^{2}) = \\frac{n}{2} \\log\\sigma^2 + \\sum_{i=1}^n \\frac{(y_i-mx_i-c)^2}{2\\sigma^2}\n",
    "$$\n",
    "\n",
    "*Learning* proceeds by minimising this error function for the data set provided."
   ]
  },
  {
   "cell_type": "markdown",
   "metadata": {
    "slideshow": {
     "slide_type": "slide"
    }
   },
   "source": [
    "### Error Function\n",
    "\n",
    "Probabilistic interpretation for minimising error function is equivalent to maximum likelihood with respect to parameters.\n",
    "\n",
    "$$\n",
    "  \\mathcal{L}(m,c,\\sigma^{2}) = \\underbrace{-\\frac{n}{2}\\log 2\\pi}_{constant} - E(m,c,\\sigma^{2})\n",
    "$$\n",
    "\n",
    "- minimising error function is equivalent to maximising log likelihood\n",
    "- maximising log likelihood is equivalent to maximising the likelihood because the logarithm is monotonic function"
   ]
  },
  {
   "cell_type": "markdown",
   "metadata": {
    "slideshow": {
     "slide_type": "slide"
    }
   },
   "source": [
    "### Sum of Squares Error\n",
    "\n",
    "Ignoring terms which don't depend on $m$ and $c$ gives\n",
    "$$\n",
    "  E(m,c) = \\sum_{i=1}^n (y_i - f(x_i))^2\n",
    "$$\n",
    "where $f(x_i) = mx_i + c$.\n",
    "\n",
    "This is known as the **sum of squares** error function.\n",
    "\n",
    "- commonly used and is closely associated with the Gaussian likelihood"
   ]
  },
  {
   "cell_type": "markdown",
   "metadata": {
    "slideshow": {
     "slide_type": "slide"
    }
   },
   "source": [
    "### Mathematical interpretation\n",
    "\n",
    "Error function expresses mismatch between prediction and reality:\n",
    "$$\n",
    "  E(m,c) = \\sum_{i=1}^n (y_i - f(x_i))^2\n",
    "$$\n",
    "\n",
    "Two functions are involved:\n",
    "\n",
    "- prediction function: $f(x_i) = mx_i + c$\n",
    "- error, or objective, function: $E(m,c)$\n",
    "\n",
    "Error function depends on parameters, $m$ and $c$, through prediction function."
   ]
  },
  {
   "cell_type": "markdown",
   "metadata": {
    "slideshow": {
     "slide_type": "slide"
    }
   },
   "source": [
    "### Learning is Optimization\n",
    "\n",
    "Learning is minimisation of the objective function.\n",
    "\n",
    "- at the minima the gradient is zero\n",
    "\n",
    "**Coordinate descent**: find gradient in each coordinate and set to zero.\n",
    "\n",
    "Wikipedia: [Coordinate descent](https://en.wikipedia.org/wiki/Coordinate_descent)"
   ]
  },
  {
   "cell_type": "markdown",
   "metadata": {
    "slideshow": {
     "slide_type": "slide"
    }
   },
   "source": [
    "### Learning is Optimization\n",
    "\n",
    "The gradient of $E(m,c)$ along the offset $c$:\n",
    "$$\n",
    "  \\frac{\\partial E(m,c)}{\\partial c} = -2\\sum_{i=1}^n (y_i - mx_i - c)\n",
    "$$\n",
    "then set $\\frac{\\partial E(m,c)}{\\partial c} = 0$, resulting in\n",
    "$$\n",
    "  c^* = \\frac{\\sum_{i=1}^n (y_i - mx_i)}{n}\n",
    "$$"
   ]
  },
  {
   "cell_type": "markdown",
   "metadata": {
    "slideshow": {
     "slide_type": "slide"
    }
   },
   "source": [
    "### Learning is Optimization\n",
    "\n",
    "The gradient of $E(m,c)$ along the slope $m$:\n",
    "$$\n",
    "  \\frac{\\partial E(m,c)}{\\partial m} = -2\\sum_{i=1}^n x_i(y_i - mx_i - c)\n",
    "$$\n",
    "then set $\\frac{\\partial E(m,c)}{\\partial m} = 0$, resulting in\n",
    "$$\n",
    "  m^* = \\frac{\\sum_{i=1}^n x_i(y_i - c)}{\\sum_{i=1}^n x_i^2}\n",
    "$$"
   ]
  },
  {
   "cell_type": "markdown",
   "metadata": {
    "slideshow": {
     "slide_type": "slide"
    }
   },
   "source": [
    "### Fixed Point Updates\n",
    "\n",
    "\\begin{align*}\n",
    "  c^* = & \\frac{1}{n}\\sum_{i=1}^n (y_i - mx_i) \\\\\n",
    "  m^* = & \\frac{\\sum_{i=1}^n x_i(y_i - c^*)}{\\sum_{i=1}^n x_i^2} \\\\\n",
    "  (\\sigma^2)^* = & \\frac{1}{n} \\sum_{i=1}^n (y_i - m^* x_i - c^*)^2\n",
    "\\end{align*}"
   ]
  },
  {
   "cell_type": "markdown",
   "metadata": {
    "slideshow": {
     "slide_type": "slide"
    }
   },
   "source": [
    "### Multi-dimensional Inputs\n",
    "\n",
    "There might be multiple factors that could contribute the outcome.\n",
    "Place these factors in a feature vector $\\mathbf{x}_i$ :\n",
    "$$\n",
    "  \\mathbf{x}_i = \\left( \\begin{array}{c} x_{i1} \\\\ \\vdots \\\\ x_{ip} \\end{array} \\right)\n",
    "$$\n",
    "\n",
    "Linear function is now defined as\n",
    "$$\n",
    "f(\\mathbf{x}_i) = \\sum_{j=1}^p w_j x_{ij} + c\n",
    "$$"
   ]
  },
  {
   "cell_type": "markdown",
   "metadata": {
    "slideshow": {
     "slide_type": "slide"
    }
   },
   "source": [
    "### Vector Notation\n",
    "\n",
    "Now define a weight vector $\\mathbf{w}$ :\n",
    "$$\n",
    "  \\mathbf{w} = \\left( \\begin{array}{c} w_1 \\\\ \\vdots \\\\ w_p \\end{array} \\right)\n",
    "$$\n",
    "so that we write linear function in vector notation:\n",
    "$$\n",
    "  f(\\mathbf{x}_i) = \\mathbf{w}^\\top \\mathbf{x}_i + c\n",
    "$$"
   ]
  },
  {
   "cell_type": "markdown",
   "metadata": {
    "slideshow": {
     "slide_type": "slide"
    }
   },
   "source": [
    "### Vector Notation\n",
    "\n",
    "Can absorb $c$ into $\\mathbf{w}$ by assuming extra input $x_0$ which is always 1, ie,\n",
    "$$\n",
    "  f(\\mathbf{x}_i) = \\mathbf{w}^\\top \\mathbf{x}_i\n",
    "$$\n",
    "where\n",
    "$$\n",
    "  \\qquad\n",
    "  \\mathbf{w} = \\left( \\begin{array}{c} c \\\\ w_1 \\\\ \\vdots \\\\ w_p \\end{array} \\right) \\ ,\n",
    "  \\qquad\n",
    "  \\mathbf{x}_i = \\left( \\begin{array}{c} 1 \\\\ x_{i1} \\\\ \\vdots \\\\ x_{ip} \\end{array} \\right)\n",
    "$$"
   ]
  },
  {
   "cell_type": "markdown",
   "metadata": {
    "slideshow": {
     "slide_type": "slide"
    }
   },
   "source": [
    "### Multivariate Regression: Likelihood\n",
    "\n",
    "Likelihood of a single **data point**:\n",
    "$$\n",
    "  p(y_i | \\mathbf{x}_i) = \\frac{1}{\\sqrt{2\\pi\\sigma^2}} \\exp\\left( -\\frac{(y_i - \\mathbf{w}^\\top \\mathbf{x}_i)^2}{2\\sigma^2} \\right)\n",
    "$$\n",
    "\n",
    "Log likelihood for a **data set**:\n",
    "\\begin{align*}\n",
    "  \\mathcal{L}(\\mathbf{w},\\sigma^2) = & \\log\\prod_{i=1}^n p(y_i | \\mathbf{x}_i) \\\\\n",
    "  = & - \\frac{n}{2}\\log 2\\pi - \\frac{n}{2}\\log\\sigma^2 - \\sum_{i=1}^n \\frac{(y_i - \\mathbf{w}^\\top \\mathbf{x}_i)^2}{2\\sigma^2}\n",
    "\\end{align*}"
   ]
  },
  {
   "cell_type": "markdown",
   "metadata": {
    "slideshow": {
     "slide_type": "slide"
    }
   },
   "source": [
    "### Multivariate Regression: Error Function\n",
    "\n",
    "\\begin{align*}\n",
    "  & E(\\mathbf{w},\\sigma^2) \\\\\n",
    "  & = \\frac{n}{2}\\log\\sigma^2 + \\sum_{i=1}^n \\frac{(y_i - \\mathbf{w}^\\top \\mathbf{x}_i)^2}{2\\sigma^2} \\\\\n",
    "  & = \\frac{n}{2}\\log\\sigma^2 + \\frac{1}{2\\sigma^2} \\sum_{i=1}^n y_i^2 - \\frac{1}{\\sigma^2} \\sum_{i=1}^n y_i \\mathbf{w}^\\top \\mathbf{x}_i + \\frac{1}{2\\sigma^2} \\sum_{i=1}^n \\mathbf{w}^\\top \\mathbf{x}_i \\mathbf{x}_i^\\top \\mathbf{w} \\\\\n",
    "  & = \\frac{n}{2}\\log\\sigma^2 + \\frac{1}{2\\sigma^2} \\sum_{i=1}^n y_i^2 - \\frac{1}{\\sigma^2} \\mathbf{w}^\\top \\sum_{i=1}^n \\mathbf{x}_i y_i + \\frac{1}{2\\sigma^2} \\mathbf{w}^\\top \\left(\\sum_{i=1}^n \\mathbf{x}_i \\mathbf{x}_i^\\top \\right)\\mathbf{w}\n",
    "\\end{align*}"
   ]
  },
  {
   "cell_type": "markdown",
   "metadata": {
    "slideshow": {
     "slide_type": "slide"
    }
   },
   "source": [
    "### Review: Multivariate Derivatives\n",
    "\n",
    "Recall that, for vectors $\\mathbf{a}$, $\\mathbf{w}$ and a square matrix $\\mathbf{A}$ :\n",
    "\\begin{align*}\n",
    "  \\frac{\\partial \\mathbf{a}^\\top \\mathbf{w}}{\\partial \\mathbf{w}} = & \\mathbf{a} \\\\\n",
    "  \\frac{\\partial \\mathbf{w}^\\top \\mathbf{A} \\mathbf{w}}{\\partial \\mathbf{w}} = & (\\mathbf{A} + \\mathbf{A}^\\top)\\mathbf{w}\n",
    "\\end{align*}\n",
    "If $\\mathbf{A}$ is symmetric (ie, $\\mathbf{A} = \\mathbf{A}^\\top$) :\n",
    "$$\n",
    "  \\frac{\\partial \\mathbf{w}^\\top \\mathbf{A} \\mathbf{w}}{\\partial \\mathbf{w}} = 2\\mathbf{A}\\mathbf{w}\n",
    "$$"
   ]
  },
  {
   "cell_type": "markdown",
   "metadata": {
    "slideshow": {
     "slide_type": "slide"
    }
   },
   "source": [
    "### Coordinate Descent\n",
    "\n",
    "Differentiate with respect to the vector $\\mathbf{w}$,\n",
    "\n",
    "$$\n",
    "  \\frac{\\partial E(\\mathbf{w},\\sigma^2)}{\\partial \\mathbf{w}} = \\frac{1}{\\sigma^2} \\sum_{i=1}^n \\mathbf{x}_i y_i - \\frac{1}{\\sigma^2} \\left(\\sum_{i=1}^n \\mathbf{x}_i \\mathbf{x}_i^\\top\\right) \\mathbf{w}\n",
    "$$\n",
    "then set $\\frac{\\partial E(\\mathbf{w},\\sigma^2)}{\\partial \\mathbf{w}} = 0$ and get\n",
    "$$\n",
    "  \\mathbf{w}^* = \\left(\\sum_{i=1}^n \\mathbf{x}_i \\mathbf{x}_i^\\top\\right)^{-1} \\sum_{i=1}^n \\mathbf{x}_i y_i\n",
    "$$"
   ]
  },
  {
   "cell_type": "markdown",
   "metadata": {
    "slideshow": {
     "slide_type": "slide"
    }
   },
   "source": [
    "### Update Equations\n",
    "\n",
    "Rewrite in matrix notation:\n",
    "\\begin{align*}\n",
    "  \\sum_{i=1}^n \\mathbf{x}_i \\mathbf{x}_i^\\top \\buildrel\\triangle\\over = & \\mathbf{X}^\\top \\mathbf{X} \\\\\n",
    "  \\sum_{i=1}^n \\mathbf{x}_i y_i \\buildrel\\triangle\\over = & \\mathbf{X}^\\top \\mathbf{y}\n",
    "\\end{align*}\n",
    "Find updates for $\\mathbf{w}$ and $\\sigma^2$ :\n",
    "\\begin{align*}\n",
    "  \\mathbf{w}^* = & (\\mathbf{X}^\\top \\mathbf{X})^{-1} \\mathbf{X}^\\top \\mathbf{y} \\\\\n",
    "  (\\sigma^2)^* = & \\frac{1}{n} \\sum_{i=1}^n (y_i - (\\mathbf{w}^*)^\\top \\mathbf{x}_i)^2\n",
    "\\end{align*}"
   ]
  },
  {
   "cell_type": "markdown",
   "metadata": {
    "slideshow": {
     "slide_type": "slide"
    }
   },
   "source": [
    "### Important Concepts Not Covered\n",
    "\n",
    "- other optimization methods:\n",
    "\n",
    "  - second order methods, conjugate gradient, quasi-Newton and Newton\n",
    "  - effective heuristics such as momentum\n",
    "\n",
    "- local vs global solutions"
   ]
  }
 ],
 "metadata": {
  "celltoolbar": "Slideshow",
  "kernelspec": {
   "display_name": "Python 3",
   "language": "python",
   "name": "python3"
  },
  "language_info": {
   "codemirror_mode": {
    "name": "ipython",
    "version": 3
   },
   "file_extension": ".py",
   "mimetype": "text/x-python",
   "name": "python",
   "nbconvert_exporter": "python",
   "pygments_lexer": "ipython3",
   "version": "3.5.2"
  }
 },
 "nbformat": 4,
 "nbformat_minor": 0
}
