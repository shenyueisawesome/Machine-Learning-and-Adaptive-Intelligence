{
 "cells": [
  {
   "cell_type": "markdown",
   "metadata": {
    "slideshow": {
     "slide_type": "slide"
    }
   },
   "source": [
    "### week 8\n",
    "\n",
    "# Constrained Optimisation and Maximum Entropy Modelling"
   ]
  },
  {
   "cell_type": "markdown",
   "metadata": {
    "slideshow": {
     "slide_type": "slide"
    }
   },
   "source": [
    "### Uncertainty\n",
    "\n",
    "Here we consider a function $H$ that expresses **uncertainty**. $H$ should satisfy the following set of requirements:\n",
    "\n",
    "1. $H(p_1, \\ldots, p_n)$ is a maximum when $\\displaystyle p_1 = \\ldots = p_n = \\frac{1}{n}$.\n",
    "\n",
    "2. $H$ is a symmetric function of the arguments $p_1, \\ldots, p_n$. It means that\n",
    "$$\n",
    "  H(p_1, \\ldots, p_n) = H(p_{\\pi(1)}, \\ldots, p_{\\pi(n)})\n",
    "$$\n",
    "for any permutation $\\pi$ of $(1, \\ldots, n)$. In other words, only the probabilities matter, not their order.\n",
    "\n",
    "3. $H(p_1, \\ldots, p_n) \\geq 0$ and the equality holds only when one of $p_i$ is $1$. It means that uncertainty is inherently a positive quantity, and it is zero only when there is no randomness present.\n",
    "      \n",
    "4. $$\n",
    "  H\\left(\\frac{1}{n}, \\ldots, \\frac{1}{n}\\right) \\leq H\\left(\\frac{1}{n + 1}, \\ldots, \\frac{1}{n + 1}\\right)\n",
    "$$\n",
    "(interpretation) Two-horse race is less uncertain than a three-horse race.\n",
    "\n",
    "5. $$\n",
    "  H(p_1, \\ldots, p_n, 0) = H(p_1, \\ldots, p_n)\n",
    "$$\n",
    "(interpretation) Uncertainty of a six-sided die is the same as a seven-sided die that has no chance of showing 7 but otherwise fair.\n",
    "\n",
    "6. $H(p_1, \\ldots, p_n)$ is a continuous function of its arguments. It means that a small change in the probabilities should not drastically affects the uncertainty.\n",
    "\n",
    "7. If $m$ and $n$ are positive integers,\n",
    "$$\n",
    "  H\\left(\\frac{1}{mn}, \\ldots, \\frac{1}{mn}\\right) = H\\left(\\frac{1}{m}, \\ldots, \\frac{1}{m}\\right) + H\\left(\\frac{1}{n}, \\ldots, \\frac{1}{n}\\right)\n",
    "$$\n",
    "(interpretation) Uncertainty for throwing an $m$-sided die followed by an $n$-sided die should be the sum of individual uncertainties. This is a **linearity condition**.\n",
    "\n",
    "8. Let $p = p_1 + \\ldots + p_m$ and $q = q_1 + \\ldots + q_n$ where each $p_i$ and $q_j$ are non-negative. If $p$ and $q$ are positive and $p + q = 1$,\n",
    "$$\n",
    "  H(p_1, \\ldots, p_m, q_1, \\ldots, q_n) = H(p, q) + p H\\left(\\frac{p_1}{p}, \\ldots, \\frac{p_m}{p}\\right) + q H\\left(\\frac{q_1}{q}, \\ldots, \\frac{q_n}{q}\\right)\n",
    "$$\n",
    "(interpretation) Think about a race in which there are $m$ brown horses and $n$ grey horses with $p_i$ (or $q_j$) being the probability the $i^{th}$ brown horse (or $j^{th}$ grey horse) wins. The total uncertainty in the outcome is the uncertainty associated with a brown or grey winner plus the weighted sum of the uncertainties given that the winner is respectively brown or grey."
   ]
  },
  {
   "cell_type": "markdown",
   "metadata": {},
   "source": [
    "### Entropy\n",
    "\n",
    "Entropy $H$ is defined as\n",
    "$$\n",
    "  H = \\sum_{i = 1 \\ldots m} p_i \\log_b \\frac{1}{p_i} = - \\sum_{i = 1 \\ldots m} p_i \\log_b p_i\n",
    "$$\n",
    "\n",
    "- Typical choices for the base $b$ are $2$, $e$, $10$.\n",
    "\n",
    "- Suppose the log is taken to the base $2$ (ie, $b=2$), entropy is expressed in *bits*.\n",
    "\n",
    "- In this notebook, we drop $b$ and use **natural log** with the base $e$, unless otherwise noted.\n",
    "\n",
    "- The convention is that $\\displaystyle 0\\log \\frac{1}{0} = 0$, because $\\displaystyle \\lim_{a\\rightarrow 0+} a\\log \\frac{1}{a} \\rightarrow 0$.\n",
    "\n",
    "- $H$ satisfies the requirements 1. to 8. above for measuring the **uncertainty**.\n",
    "\n",
    "- Alternatively, the entropy of a random variable $X$ may be written as\n",
    "$$\n",
    "  H(X) = \\sum_{x\\in {\\cal X}} p(x) \\log \\frac{1}{p(x)}\n",
    "$$\n",
    "\n",
    "- Depending on the context, we may write $H(p)$ for the above quantity.\n",
    "\n",
    "Here are some examples for calculating entropies with base $2$ and expressing the result in *bits*:\n",
    "\n",
    "1. A flip of a fair coin:\n",
    "$$\n",
    "  H = \\frac{1}{2}\\log_2 2 + \\frac{1}{2}\\log_2 2 = 1 \\ (\\text{bit})\n",
    "$$\n",
    "\n",
    "2. A flip of a biased coin, with the head coming up as twice frequently as the tail:\n",
    "$$\n",
    "  H = \\frac{2}{3}\\log_2\\frac{3}{2} + \\frac{1}{3}\\log_2 3 \\sim 0.92 \\ (\\text{bits})\n",
    "$$\n",
    "\n",
    "3. A race between four horses, having a chance to win with probabilities $0.4$, $0.3$, $0.2$, and $0.1$:\n",
    "$$\n",
    "  H = 0.4\\log_2 \\frac{1}{0.4} + 0.3\\log_2 \\frac{1}{0.3} + 0.2\\log_2 \\frac{1}{0.2} + 0.1\\log_2 \\frac{1}{0.1} \\sim 1.85 \\ (\\text{bits})\n",
    "$$"
   ]
  },
  {
   "cell_type": "markdown",
   "metadata": {},
   "source": [
    "### Entropy: Lower Bound and Upper Bound\n",
    "\n",
    "We can prove that entropy is *not negative*.\n",
    "\n",
    "For a random variable $X$:\n",
    "$$\n",
    "  0 \\leq p(x) \\leq 1\n",
    "  \\quad \\Longrightarrow \\quad \\log \\frac{1}{p(x)} \\geq 0\n",
    "  \\quad \\Longrightarrow \\quad H(X) = \\sum_{x\\in {\\cal X}} p(x) \\log \\frac{1}{p(x)} \\geq 0\n",
    "$$\n",
    "Next, because $H(X) \\geq 0$, $H(X) = 0$ implies that\n",
    "$$\n",
    "  p(x) \\log \\frac{1}{p(x)} = 0 \\text{ for all } x\n",
    "  \\quad \\Longrightarrow \\quad p(x) = 0 \\text{ or } \\log \\frac{1}{p(x)} = 0 \\text{ for all } x\n",
    "  \\quad \\Longrightarrow \\quad p(x) = 0 \\text{ or } 1 \\text{ for all } x\n",
    "$$\n",
    "using our standard convention $\\displaystyle 0\\cdot\\log\\frac{1}{0} = 0$ because $\\displaystyle \\lim_{a\\rightarrow 0+} a\\cdot\\log\\frac{1}{a} \\rightarrow 0$.\n",
    "\n",
    "Thus $H(X) = 0$ when $p(x) = 1$ for one $x$ and $0$ for the rest. (Recall the probability axiom.)\n",
    "\n",
    "We can also prove that entropy has an upper bound, defined by the inequality, $H(p) \\leq \\log |{\\cal X}|$, which  is achieved when $p(x)$ is uniformly distributed over all $x\\in{\\cal X}$."
   ]
  },
  {
   "cell_type": "markdown",
   "metadata": {
    "slideshow": {
     "slide_type": "slide"
    }
   },
   "source": [
    "### More Entropies\n",
    "\n",
    "There are more extropies, such as *joint entropy*, *conditional entropy* and *mutual information*.\n",
    "\n",
    "#### Joint Entropy\n",
    "\n",
    "The joint entropy of $X$ and $Y$ is defined as\n",
    "$$\n",
    "  H(X,Y) = \\sum_{x\\in {\\cal X}} \\sum_{y\\in {\\cal Y}} p(x,y) \\log \\frac{1}{p(x,y)}\n",
    "$$\n",
    "\n",
    "#### Conditional Entropy\n",
    "\n",
    "The conditional entropy of $Y$ given $X$ is defined as\n",
    "\\begin{align*}\n",
    "  H(Y|X)\n",
    "  &= \\sum_{x\\in {\\cal X}} p(x) H(Y|X = x) \\\\\n",
    "  &= \\sum_{x\\in {\\cal X}} p(x) \\sum_{y\\in {\\cal Y}} p(y|x) \\log \\frac{1}{p(y|x)} \\\\\n",
    "  &= \\sum_{x\\in {\\cal X}} \\sum_{y\\in {\\cal Y}} p(x,y) \\log \\frac{1}{p(y|x)}\n",
    "\\end{align*}\n",
    "\n",
    "#### Mutual information\n",
    "\n",
    "The mutual information between $X$ and $Y$ is defined as\n",
    "$$\n",
    "  I(X;Y) = \\sum_{x\\in {\\cal X}} \\sum_{y\\in {\\cal Y}} p(x,y) \\log \\frac{p(x,y)}{p(x)p(y)}\n",
    "$$\n",
    "This $I(X;Y)$ can be rewritten as\n",
    "$$\n",
    "  I(X;Y) = H(X) - H(X|Y) = H(Y) - H(Y|X)\n",
    "$$\n",
    "It measures the average reduction in uncertainty about $X$ that results from learning the value of $Y$."
   ]
  },
  {
   "cell_type": "markdown",
   "metadata": {
    "slideshow": {
     "slide_type": "slide"
    }
   },
   "source": [
    "### Weather Forecast\n",
    "\n",
    "How do we forecast tomorrow's weather?\n",
    "\n",
    "- satellite\n",
    "- history, or one's experience\n",
    "- coin\n",
    "\n",
    "How do we handle information from various sources?\n",
    "\n",
    "- **backoff:** choose one\n",
    "    1. Use satellite image by default.\n",
    "    2. If 1. is not available, rely on statistics (ie, past history).\n",
    "    3. If 2. is not available, flip a coin prediction.\n",
    "\n",
    "- **interpolation:** weight each evidence, eg, $0.6\\times\\text{satellite} + 0.3\\times\\text{history} + 0.1\\times\\text{coin}$\n",
    "\n",
    "- **maximum entropy:** make a least biased decision"
   ]
  },
  {
   "cell_type": "markdown",
   "metadata": {
    "slideshow": {
     "slide_type": "slide"
    }
   },
   "source": [
    "### Maximum Entropy\n",
    "\n",
    "#### Coin Tossing\n",
    "\n",
    "Suppose a weighted coin has probability $h$ of coming up heads,\tentropy of tossing the coin only once is given by\n",
    "$$\n",
    "  H(X) = h \\log_2 \\frac{1}{h} + (1 - h) \\log_2 \\frac{1}{1 - h}\n",
    "$$\n",
    "\n",
    "Entropy is maximised when the coin is fair, ie, unbiased:\n",
    "<img src=\"./figs/coin_toss.jpg\", width=300, align=center>\n",
    "\n",
    "#### Concept\n",
    "\n",
    "- model *all* that is known\n",
    "- assume *nothing* that is unknown\n",
    "\n",
    "#### Principle\n",
    "\n",
    "Given a collection of facts, the **maximum entropy** method choose a model that is *consistent with all facts*, but otherwise *as uniform as possible*.\n",
    "\n",
    "#### Simple Example\n",
    "\n",
    "We wish to estimate a joint probability distribution $p(x, y)$ where $x\\in\\{x_1, x_2\\}$ and $y\\in\\{y_1, y_2\\}$, given the constraints\n",
    "\\begin{align*}\n",
    "  p(x_1, y_1) + p(x_2, y_1) &= 0.6 \\\\\n",
    "  p(x_1, y_1) + p(x_1, y_2) + p(x_2, y_1) + p(x_2, y_2) &= 1\n",
    "\\end{align*}\n",
    "Given these constraints, our objective is to maximise\n",
    "$$\n",
    "  H(X, Y) = \\sum_{x\\in\\{x_1, x_2\\}} \\sum_{y\\in\\{y_1, y_2\\}} p(x, y) \\log\\frac{1}{p(x, y)}\n",
    "$$\n",
    "\n",
    "One distribution that satisfies constrains:\n",
    "\n",
    ".     | $y_1$ | $y_2$ |\n",
    ":----:|:-----:|:-----:|:-----:\n",
    "$x_1$ | 0.5   | 0.1   |\n",
    "$x_2$ | 0.1   | 0.3   |\n",
    "total | 0.6   |       | 1.0\n",
    "\n",
    "The most uniform distribution that satisfies constrains:\n",
    "\n",
    ".     | $y_1$ | $y_2$ |\n",
    ":----:|:-----:|:-----:|:-----:\n",
    "$x_1$ | 0.3   | 0.2   |\n",
    "$x_2$ | 0.3   | 0.2   |\n",
    "total | 0.6   |       | 1.0"
   ]
  },
  {
   "cell_type": "markdown",
   "metadata": {
    "slideshow": {
     "slide_type": "slide"
    }
   },
   "source": [
    "### Weather Forecast: Analytical Solution Using Lagrange Multiplier\n",
    "\n",
    "#### Problem\n",
    "\n",
    "Firstly, we make overly simplified assumption that five weather types, \\{misty, foggy, cloudy, sunny, rainy\\}, can fully describe weather. Now, suppose that today's weather is \\{cloudy\\}, what will be tomorrow's weather?\n",
    "\n",
    "#### A Single Constraint\n",
    "\n",
    "Initially we have the *total probability* constraint:\n",
    "$$\n",
    "  p(misty) + p(foggy) + p(cloudy) + p(sunny) + p(rainy) = 1\n",
    "$$\n",
    "There exist infinite combinations of probabilities that may satisfy the constraint above.\n",
    "\n",
    "The most intuitively appealing model is\n",
    "\\begin{align*}\n",
    "  p(misty) &= 0.2 \\\\\n",
    "  p(foggy) &= 0.2 \\\\\n",
    "  p(cloudy) &= 0.2 \\\\\n",
    "  p(sunny) &= 0.2 \\\\\n",
    "  p(rainy) &= 0.2\n",
    "\\end{align*}\n",
    "This model allocates the total probability (that is ` 1 ') evenly among five possible weathers. It is the most *uniform* model subject to our knowledge... but what is exactly meant by *uniform*?\n",
    "\n",
    "Analytically, we wish to maximise the entropy $H(Y)$ given the total probability constraint. Using a Lagrange multiplier $\\lambda_1$:\n",
    "$$\n",
    "  \\Lambda = H(Y) + \\lambda_1 \\times \\text{constraint}\n",
    "  = \\left( - \\sum_{y\\in {\\cal Y}} p(y) \\log p(y) \\right) + \\lambda_1 \\left( \\sum_{y\\in {\\cal Y}} p(y) - 1 \\right)\n",
    "$$\n",
    "and take a partial derivative with respect to $p(y)$:\n",
    "$$\n",
    "  \\frac{\\partial\\Lambda}{\\partial p(y)} = - \\log p(y) - 1 + \\lambda_1\n",
    "$$\n",
    "Then set $\\displaystyle \\frac{\\partial\\Lambda}{\\partial p(y)} = 0$ and, finally, get $p(y) = 0.2$ for all $y$."
   ]
  },
  {
   "cell_type": "markdown",
   "metadata": {},
   "source": [
    "### Assignment Question 1\n",
    "\n",
    "Solve $\\displaystyle \\frac{\\partial\\Lambda}{\\partial p(y)} = 0$ for the weather forecast problem with *a single* constraint to reach the most *uniform* model that is presented above. Show your working fully.\n",
    "\n",
    "*5 marks*"
   ]
  },
  {
   "cell_type": "markdown",
   "metadata": {},
   "source": [
    "#### Question 1 Answer"
   ]
  },
  {
   "cell_type": "markdown",
   "metadata": {
    "slideshow": {
     "slide_type": "slide"
    }
   },
   "source": [
    "#### Two Constraints\n",
    "\n",
    "Suppose we have *two* constraints:\n",
    "\\begin{align*}\n",
    "  p(misty) + p(foggy) + p(cloudy) + p(sunny) + p(rainy) &= 1 \\\\\n",
    "  p(misty) + p(foggy) &= 0.3\n",
    "\\end{align*}\n",
    "By observation, the most *uniform* model is\n",
    "\\begin{align*}\n",
    "  p(misty) &= 0.15 \\\\\n",
    "  p(foggy) &= 0.15 \\\\\n",
    "  p(cloudy) &= 0.233... \\\\\n",
    "  p(sunny) &= 0.233... \\\\\n",
    "  p(rainy) &= 0.233...\n",
    "\\end{align*}\n",
    "\n",
    "Analytically, we maximise $H(Y)$ given those two constraints:\n",
    "\\begin{align*}\n",
    "  \\Lambda = H(Y)\n",
    "    & + \\lambda_1 \\{ p(misty) + p(foggy) + p(cloudy) + p(sunny) + p(rainy) - 1 \\} \\\\\n",
    "    & + \\lambda_2 \\{ p(misty) + p(foggy) - 0.3 \\}\n",
    "\\end{align*}\n",
    "and calculate partial derivatives:\n",
    "$$\n",
    "  \\frac{\\partial\\Lambda}{\\partial p(y)} = \\left\\{ \\begin{array}{ll}\n",
    "    - \\log p(y) - 1 + \\lambda_1 + \\lambda_2\t& y = misty, foggy \\\\\n",
    "    - \\log p(y) - 1 + \\lambda_1\t\t& \\text{otherwise}\n",
    "    \\end{array} \\right.\n",
    "$$\n",
    "Then set $\\displaystyle \\frac{\\partial\\Lambda}{\\partial p(y)} = 0$."
   ]
  },
  {
   "cell_type": "markdown",
   "metadata": {},
   "source": [
    "### Assignment Question 2\n",
    "\n",
    "Solve $\\displaystyle \\frac{\\partial\\Lambda}{\\partial p(y)} = 0$ for the weather forecast problem with *two* constraint to reach the most *uniform* model that is presented above. Show your working fully.\n",
    "\n",
    "*5 marks*"
   ]
  },
  {
   "cell_type": "markdown",
   "metadata": {},
   "source": [
    "#### Question 2 Answer"
   ]
  },
  {
   "cell_type": "markdown",
   "metadata": {
    "slideshow": {
     "slide_type": "slide"
    }
   },
   "source": [
    "#### Three Constraints\n",
    "\n",
    "Suppose we have *three* constraints:\n",
    "\\begin{align*}\n",
    "  p(misty) + p(foggy) + p(cloudy) + p(sunny) + p(rainy) &= 1 \\\\\n",
    "  p(misty) + p(foggy) &= 0.3 \\\\\n",
    "  p(misty) + p(cloudy) &= 0.5\n",
    "\\end{align*}\n",
    "\n",
    "Solution is no longer obvious, but we still can work on this case analytically.\n",
    "\n",
    "We maximise $H(Y)$ given three constraints:\n",
    "\\begin{align*}\n",
    "  \\Lambda = H(Y)\n",
    "    & + \\lambda_1 \\{ p(misty) + p(foggy) + p(cloudy) + p(sunny) + p(rainy) - 1 \\} \\\\\n",
    "    & + \\lambda_2 \\{ p(misty) + p(foggy) - 0.3 \\} \\\\\n",
    "    & + \\lambda_3 \\{ p(misty) + p(cloudy) - 0.5 \\}\n",
    "\\end{align*}\n",
    "Thus,\n",
    "$$\n",
    "  \\frac{\\partial\\Lambda}{\\partial p(y)} = \\left\\{ \\begin{array}{ll}\n",
    "    - \\log p(y) - 1 + \\lambda_1 + \\lambda_2 + \\lambda_3 & y = misty \\\\\n",
    "    - \\log p(y) - 1 + \\lambda_1 + \\lambda_2\t\t& y = foggy \\\\\n",
    "    - \\log p(y) - 1 + \\lambda_1 + \\lambda_3\t\t& y = cloudy \\\\\n",
    "    - \\log p(y) - 1 + \\lambda_1\t\t\t& \\text{otherwise}\n",
    "\t\\end{array} \\right.\n",
    "$$\n",
    "We set $\\displaystyle \\frac{\\partial\\Lambda}{\\partial p(y)} = 0$ and get the most *uniform* model:\n",
    "\\begin{align*}\n",
    "  p(misty) &= \\frac{9 - \\sqrt{51}}{10} = 0.186... \\\\\n",
    "  p(foggy) &= \\frac{\\sqrt{51} - 6}{10} = 0.114... \\\\\n",
    "  p(cloudy) &= \\frac{\\sqrt{51} - 4}{10} = 0.314... \\\\\n",
    "  p(sunny) &= \\frac{11 - \\sqrt{51}}{20} = 0.193... \\\\\n",
    "  p(rainy) &= \\frac{11 - \\sqrt{51}}{20} = 0.193...\n",
    "\\end{align*}"
   ]
  },
  {
   "cell_type": "markdown",
   "metadata": {},
   "source": [
    "### Assignment Question 3\n",
    "\n",
    "Solve $\\displaystyle \\frac{\\partial\\Lambda}{\\partial p(y)} = 0$ for the weather forecast problem with *three* constraint to reach the most *uniform* model that is presented above. Show your working fully.\n",
    "\n",
    "*10 marks*"
   ]
  },
  {
   "cell_type": "markdown",
   "metadata": {},
   "source": [
    "#### Question 3 Answer"
   ]
  },
  {
   "cell_type": "markdown",
   "metadata": {
    "slideshow": {
     "slide_type": "slide"
    }
   },
   "source": [
    "### Maximum Entropy Model\n",
    "\n",
    "#### Random Process\n",
    "\n",
    "Formally, we define a random process as follows:\n",
    "\\begin{align*}\n",
    "  x &: \\text{some information influencing the output}, \\ x\\in{\\cal X} \\\\\n",
    "  y &: \\text{output value}, \\ y\\in{\\cal Y}\n",
    "\\end{align*}\n",
    "\n",
    "As an example, a random process can be defined for the weather forecast problem:\n",
    "\\begin{align*}\n",
    "  x &: \\text{today's weather}, \\ x\\in\\{cloudy\\} \\\\\n",
    "  y &: \\text{tomorrow's weather}, \\ y\\in\\{misty, foggy, cloudy, sunny, rainy\\}\n",
    "\\end{align*}\n",
    "\n",
    "#### Training Samples\n",
    "\n",
    "We also have training samples $(x_1, y_1), (x_2, y_2), \\ \\ldots \\ , (x_N, y_N)$.\n",
    "\n",
    "We assume that there are ten training samples for the weather forecast problem:\n",
    "\\begin{align*}\n",
    "  & (cloudy, cloudy), (cloudy, sunny), (cloudy, sunny), (cloudy, misty), (cloudy, cloudy), \\\\\n",
    "  & (cloudy, rainy), (cloudy, misty), (cloudy, foggy), (cloudy, cloudy), (cloudy, rainy)\n",
    "\\end{align*}\n",
    "\n",
    "#### Feature\n",
    "\n",
    "For $i = 1,\\ldots,n$ ($n$: number of features), we define $f_i(x, y)$, an indicator function of type ${\\cal X}\\times{\\cal Y}\\longrightarrow\\{0, 1\\}$.\n",
    "\n",
    "The weather forecast problem has the following feature set:\n",
    "\\begin{align*}\n",
    "  f_1(x, y) = 1 \\quad & \\text{if} \\ y = \\{misty, foggy, cloudy, sunny, rainy\\} \\\\\n",
    "  f_2(x, y) = 1 \\quad & \\text{if} \\ y = \\{misty, foggy\\} \\\\\n",
    "  f_3(x, y) = 1 \\quad & \\text{if} \\ y = \\{misty, cloudy\\}\n",
    "\\end{align*}\n",
    "otherwise $f_i(x, y) = 0$ for $i = 1,2,3$.\n",
    "\n",
    "- Note that $x$ is always $\\{cloudy\\}$ with this problem.\n",
    "- If one sample is $(cloudy, foggy)$: $f_1 = 1, f_2 = 1, f_3 = 0$.\n",
    "\n",
    "#### Expected Values\n",
    "\n",
    "The expected value of $f_i$ with respect to an *empirical distribution* $\\tilde{p}(x, y)$ is given by\n",
    "$$\n",
    "  \\tilde{p}(f_i) \\equiv E_{\\tilde{p}}[f_i] = \\sum_{x\\in {\\cal X}} \\sum_{y\\in {\\cal Y}} \\tilde{p}(x, y) f_i(x, y)\n",
    "$$\n",
    "\n",
    "- $\\tilde{p}(x, y)$ represents a summary of the training sample, that is,\n",
    "$$\n",
    "  \\displaystyle \\tilde{p}(x, y) \\equiv \\frac{1}{N} \\times \\text{number of times that $(x, y)$ occurs in the sample}\n",
    "$$\n",
    "- Some pair $(x, y)$ may not occur at all in the sample.\n",
    "\n",
    "The expected value of $f_i$ with respect to a *model distribution* $p(x, y)$ is given by\n",
    "$$\n",
    "  p(f_i) \\equiv E_p[f_i] = \\sum_{x\\in {\\cal X}} \\sum_{y\\in {\\cal Y}} p(x, y) f_i(x, y) \\sim \\sum_{x\\in {\\cal X}} \\tilde{p}(x) \\sum_{y\\in {\\cal Y}} p(y | x) f_i(x, y)\n",
    "$$\n",
    "\n",
    "- Calculation of $p(f_i)$ with respect to $p(x, y)$ is to the order of $|\\ {\\cal X}\\times{\\cal Y}\\ |$, which is often too large.\n",
    "- Instead, by using the empirical distribution $\\tilde{p}(x)$, the calculation gets more tractable because we only consider those in the training sample.\n",
    "- We are likely to have more reliable estimates for $p(y | x)$ than for $p(x, y)$.\n",
    "\n",
    "Now we have the following **constraint** that relates two expected values:\n",
    "$$\n",
    "  p(f_i) = \\tilde{p}(f_i)\n",
    "$$\n",
    "where $\\tilde{p}(f_i)$ is a mean of representing statistical phenomena in the training sample, and $p(f_i) = \\tilde{p}(f_i)$ is a mean of requiring that our model generalises these phenomena.\n",
    "\n",
    "Here we can write down constraints for the weather forecast problem:\n",
    "\\begin{align*}\n",
    "  p(misty) + p(foggy) + p(cloudy) + p(sunny) + p(rainy) &= 1 \\\\\n",
    "  p(misty) + p(foggy) &= 0.3 \\\\\n",
    "  p(misty) + p(cloudy) &= 0.5\n",
    "\\end{align*}\n",
    "\n",
    "#### Maximum Entropy Model\n",
    "\n",
    "Of all conditional probability distributions ${\\cal P}$, a subset ${\\cal C} \\equiv \\{ \\ p\\in{\\cal P} \\ | \\ p(f_i) = \\tilde{p}(f_i) \\ \\text{ for } \\ i = 1,\\ldots,n \\ \\}$ constrains the model according to our knowledge.\n",
    "The following conditional entropy indicates a *mathematical measure of the uniformity*:\n",
    "$$\n",
    "  H_p(Y|X) \\equiv - \\sum_{x\\in {\\cal X}} \\tilde{p}(x) \\sum_{y\\in {\\cal Y}} p(y | x) \\log p(y | x)\n",
    "$$\n",
    "where notation $H_p(Y|X)$ emphasises the dependency of the entropy on $p$.\n",
    "\n",
    "Finally, we have reached the maximum entropy model of the form:\n",
    "$$\n",
    "  p^* = \\mathop{\\rm argmax}_{p\\in{\\cal C}} H_p(Y|X)\n",
    "$$\n",
    "\n",
    "#### Parameter estimation procedure\n",
    "\n",
    "For each feature $f_i \\ (i = 1,\\ldots,n)$, we introduce a *Lagrange multiplier* $\\lambda_i$, then define the *Lagrangian*:\n",
    "$$\n",
    "  \\Lambda(p, \\lambda) \\equiv H_p(Y|X) + \\sum_i \\lambda_i \\{ p(f_i) - \\tilde{p}(f_i) \\}\n",
    "$$\n",
    "    \n",
    "Holding $\\lambda = \\{\\lambda_i\\}$ fixed, we compute the unconstrained maximum of $\\Lambda(p, \\lambda)$ over all $p\\in{\\cal P}$ :\n",
    "\\begin{align*}\n",
    "  p_{\\lambda}(y|x) &= \\mathop{\\rm argmax}_{p\\in{\\cal P}} \\Lambda(p, \\lambda) \\\\\n",
    "  \\Phi(\\lambda) &= \\Lambda(p_{\\lambda}, \\lambda)\n",
    "\\end{align*}\n",
    "\n",
    "General solution is the exponential model:\n",
    "\\begin{align*}\n",
    "  p_{\\lambda}(y|x) &= \\frac{1}{Z_{\\lambda}(x)} \\exp \\left( \\sum_i \\lambda_i f_i(x,y) \\right) \\\\\n",
    "  \\Phi(\\lambda) &= - \\sum_{x\\in {\\cal X}} \\tilde{p}(x) \\log Z_{\\lambda}(x) + \\sum_i \\lambda_i \\tilde{p}(f_i)\n",
    "\\end{align*}\n",
    "where $Z_{\\lambda}(x)$ is a normalising constant given by\n",
    "$$\n",
    "  Z_{\\lambda}(x) = \\sum_{y\\in {\\cal Y}} \\exp \\left( \\sum_i \\lambda_i f_i(x,y) \\right)\n",
    "$$\n",
    "Technically, $\\lambda_i$ is a *Lagrange multiplier*, associated with the feature $f_i(x,y)$, in a certain constrained optimisation problem. In a sense, $\\lambda_i$ is a measure of the *importance* of the feature $f_i(x,y)$."
   ]
  },
  {
   "cell_type": "markdown",
   "metadata": {},
   "source": [
    "### Assignment Question 4\n",
    "\n",
    "A box contains an unknown number of balls. Each ball is labelled with an integer between $1$ and $N$. There may be *any number of balls* (ie, zero, one, or more than one ball) having the same label. For each of the following two cases, you are asked to define appropriate variables and to write a Lagrangian. Note that you do **not** need to solve Lagrangians.\n",
    "\n",
    "**Task 1:**\n",
    "There is only one box in a room. You draw one ball each time, record the label, then return it to the box. After repeating the above procedure several times, you have found that the average value of the labels was $L$. Write a Lagrangian that leads to a solution for the most unbiased estimate of the number of different labels.\n",
    "\n",
    "**Task 2:**\n",
    "This time there are many boxes in a room. It is known that, on average, the total number of balls in one box is $T$, and the sum of labels in one box is $S$. Write a Lagrangian that leads to a solution for the most unbiased distribution of the number of different labels.\n",
    "\n",
    "*20 marks*"
   ]
  },
  {
   "cell_type": "markdown",
   "metadata": {
    "slideshow": {
     "slide_type": "slide"
    }
   },
   "source": [
    "#### Qustion 4 Answer"
   ]
  },
  {
   "cell_type": "markdown",
   "metadata": {},
   "source": [
    "### Auxiliary Function\n",
    "\n",
    "An auxiliary function is a (pointwise) lower or upper bound on a function.\n",
    "<img src=\"./figs/auxiliary.jpg\", width=300, align=center>\n",
    "\n",
    "$x-1$ is an auxiliary function for $\\log x$, and $\\log x$ is an auxiliary function for $x-1$."
   ]
  },
  {
   "cell_type": "markdown",
   "metadata": {
    "slideshow": {
     "slide_type": "slide"
    }
   },
   "source": [
    "### Maximum Entropy Model: Numerical Solution\n",
    "\n",
    "We can formulate the task (ie, that of finding a solution to the maximum entropy model) as a pure *maximum likelihood* problem of discovering the optimal values for the model parameters.\n",
    "\n",
    "We start with the log likelihood of the general solution $p_{\\lambda}(y|x)$:\n",
    "\\begin{align*}\n",
    "  {\\cal L}(\\tilde{p} | p_{\\lambda}) &= \\sum_{x\\in {\\cal X}} \\sum_{y\\in {\\cal Y}} \\tilde{p}(x,y) \\log p_{\\lambda}(y|x) \\\\\n",
    "  &= \\sum_{x\\in {\\cal X}} \\sum_{y\\in {\\cal Y}} \\tilde{p}(x,y) \\sum_i \\lambda_i f_i(x,y) - \\sum_{x\\in {\\cal X}} \\tilde{p}(x) \\log Z_{\\lambda}(x) \\underbrace{\\sum_{y\\in {\\cal Y}} \\tilde{p}(y|x)}_1\n",
    "\\end{align*}\n",
    "\n",
    "Differentiating ${\\cal L}(\\tilde{p} | p_{\\lambda})$ with respect to an individual $\\lambda_i$,\n",
    "\\begin{align*}\n",
    "  \\frac{\\partial {\\cal L}(\\tilde{p} | p_{\\lambda})}{\\partial \\lambda_i}\n",
    "  &= \\sum_{x\\in {\\cal X}} \\sum_{y\\in {\\cal Y}} \\tilde{p}(x,y) \\frac{\\partial}{\\partial \\lambda_i} \\sum_i \\lambda_i f_i(x,y) - \\sum_{x\\in {\\cal X}} \\tilde{p}(x) \\frac{\\partial \\log Z_{\\lambda}(x)}{\\partial \\lambda_i} \\\\\n",
    "  &= \\underbrace{\\sum_{x\\in {\\cal X}} \\sum_{y\\in {\\cal Y}} \\tilde{p}(x,y) f_i(x,y)}_{\\tilde{p}(f_i)} - \\underbrace{\\sum_{x\\in {\\cal X}} \\tilde{p}(x) \\sum_{y\\in {\\cal Y}} p_{\\lambda}(y|x) f_i(x,y)}_{p(f_i)}\n",
    "\\end{align*}\n",
    "\n",
    "Setting $\\displaystyle \\frac{\\partial {\\cal L}(\\tilde{p} | p_{\\lambda})}{\\partial \\lambda_i}$ to zero yields the condition for maximising the log likelihood with respect to $\\lambda_i$.\n",
    "In other words, the maximum entropy model $p*\\in{\\cal C}$ also maximises the *likelihood* of the training sample $\\tilde{p}$ .\n",
    "\n",
    "A **numerical solution** is the procedure that iteratively achieves\n",
    "$$\n",
    "  \\lambda \\equiv \\{ \\lambda_1, \\ldots, \\lambda_n \\}\n",
    "  \\quad\\longrightarrow\\quad \\lambda + \\delta \\equiv\n",
    "  \\{ \\lambda_1 + \\delta_1, \\ldots, \\lambda_n + \\delta_n \\}\n",
    "$$\n",
    "where $\\lambda + \\delta$ is not inferior to $\\lambda$ in a *log likelihood* sense.\n",
    "\n",
    "To achieve this, we calculate\n",
    "\\begin{align*}\n",
    "  {\\cal L}(\\tilde{p} | p_{\\lambda + \\delta}) - {\\cal L}(\\tilde{p} | p_{\\lambda})\n",
    "  &= \\sum_{x\\in {\\cal X}} \\sum_{y\\in {\\cal Y}} \\tilde{p}(x,y) \\log p_{\\lambda + \\delta}(y|x) - \\sum_{x\\in {\\cal X}} \\sum_{y\\in {\\cal Y}} \\tilde{p}(x,y) \\log p_{\\lambda}(y|x) \\\\\n",
    "  &= \\sum_{x\\in {\\cal X}} \\sum_{y\\in {\\cal Y}} \\tilde{p}(x,y) \\sum_i \\delta_i f_i(x,y) - \\sum_{x\\in {\\cal X}} \\tilde{p}(x) \\log \\frac{Z_{\\lambda + \\delta}(x)}{Z_{\\lambda}(x)}\n",
    "\\end{align*}\n",
    "\n",
    "Using the inequality $-\\log a \\geq 1 - a$ for all $a > 0$, we establish a lower bound on the change in the log likelihood:\n",
    "$$\n",
    "  {\\cal L}(\\tilde{p} | p_{\\lambda + \\delta}) - {\\cal L}(\\tilde{p} | p_{\\lambda}) \\geq {\\cal A}(\\delta | \\lambda)\n",
    "$$\n",
    "where\n",
    "\\begin{align*}\n",
    "  {\\cal A}(\\delta | \\lambda)\n",
    "  = & \\sum_{x\\in {\\cal X}} \\sum_{y\\in {\\cal Y}} \\tilde{p}(x,y) \\sum_i \\delta_i f_i(x,y) + 1 - \\sum_{x\\in {\\cal X}} \\tilde{p}(x) \\frac{Z_{\\lambda + \\delta}(x)}{Z_{\\lambda}(x)} \\\\\n",
    "  = & \\sum_{x\\in {\\cal X}} \\sum_{y\\in {\\cal Y}} \\tilde{p}(x,y) \\sum_i \\delta_i f_i(x,y) + 1 - \\sum_{x\\in {\\cal X}} \\tilde{p}(x) \\sum_{y\\in {\\cal Y}} p_{\\lambda}(y|x) \\exp \\left( \\sum_i \\delta_i f_i(x,y) \\right)\n",
    "\\end{align*}\n",
    "If we find $\\delta$ for which ${\\cal A}(\\delta | \\lambda) > 0$, then $\\lambda + \\delta$ is an improvement over $\\lambda$.\n",
    "\n",
    "**problem:**\n",
    "the straightforward maximisation of ${\\cal A}(\\delta | \\lambda)$ may not work, because differentiating ${\\cal A}(\\delta | \\lambda)$ with respect to $\\delta_i$ yields an equation containing $\\{ \\delta_1, \\ldots, \\delta_n \\}$ (ie, $\\delta_i$ is coupled).\n",
    "\n",
    "**solution:**\n",
    "to get around above problem, we introduce the quantity: $\\displaystyle f^{\\#}(x,y) \\equiv \\sum_i f_i(x,y)$, ie, the number of features that are not zero at $(x,y)$, and rewrite:\n",
    "$$\n",
    "  \\exp \\left( \\sum_i \\delta_i f_i(x,y) \\right) = \\exp \\left( \\sum_i \\frac{f_i(x,y)}{f^{\\#}(x,y)} \\delta_i f^{\\#}(x,y) \\right)\n",
    "$$\n",
    "\n",
    "Notice that $\\displaystyle \\frac{f_i(x,y)}{f^{\\#}(x,y)}$ is a pdf over $i$, that is non-negative and sums to one.\n",
    "\n",
    "For a convex function, $f(x) = e^x$, *Jensen's inequality* says\n",
    "\\begin{align*}\n",
    "  f(E[i]) &\\leq E[f(i)] \\\\\n",
    "  \\exp \\left( \\sum_i p(i) q(i) \\right) &\\leq \\sum_i p(i) \\exp q(i) \\\\\n",
    "  \\exp \\left( \\sum_i \\frac{f_i(x,y)}{f^{\\#}(x,y)} \\delta_i f^{\\#}(x,y)\\right) &\\leq \\sum_i \\frac{f_i(x,y)}{f^{\\#}(x,y)} \\exp \\left( \\delta_i f^{\\#}(x,y) \\right)\n",
    "\\end{align*}\n",
    "which results in ${\\cal A}(\\delta | \\lambda) \\geq {\\cal B}(\\delta | \\lambda)$ where\n",
    "$$\n",
    "  {\\cal B}(\\delta | \\lambda) = \\sum_{x\\in {\\cal X}} \\sum_{y\\in {\\cal Y}} \\tilde{p}(x,y) \\sum_i \\delta_i f_i(x,y) + 1 - \\sum_{x\\in {\\cal X}} \\tilde{p}(x) \\sum_{y\\in {\\cal Y}} p_{\\lambda}(y|x) \\sum_i \\frac{f_i(x,y)}{f^{\\#}(x,y)} \\exp \\left( \\delta_i f^{\\#}(x,y) \\right)\n",
    "$$\n",
    "\n",
    "${\\cal B}(\\delta | \\lambda)$ is a new, not as tight, lower bound on the change in log likelihood:\n",
    "$$\n",
    "  {\\cal L}(\\tilde{p} | p_{\\lambda + \\delta}) - {\\cal L}(\\tilde{p} | p_{\\lambda}) \\geq {\\cal B}(\\delta | \\lambda)\n",
    "$$\n",
    "\n",
    "Differentiating ${\\cal B}(\\delta | \\lambda)$ with respect to $\\delta_i$,\n",
    "$$\n",
    "  \\frac{\\partial {\\cal B}(\\delta | \\lambda)}{\\partial \\delta_i} = \\overbrace{\\sum_{x\\in {\\cal X}} \\sum_{y\\in {\\cal Y}} \\tilde{p}(x,y) f_i(x,y)}^{\\tilde{p}(f_i)} - \\sum_{x\\in {\\cal X}} \\tilde{p}(x) \\sum_{y\\in {\\cal Y}} p_{\\lambda}(y|x) f_i(x,y) \\exp \\left( \\delta_i f^{\\#}(x,y) \\right)\n",
    "$$\n",
    "\n",
    "What is nice about this? $\\quad\\Longrightarrow\\quad$ $\\delta_i$ appears alone without any coupling."
   ]
  },
  {
   "cell_type": "markdown",
   "metadata": {},
   "source": [
    "### Numerical Solution using the Iterative scaling algorithm (ISA)\n",
    "\n",
    "1. initially set $\\lambda_i = 0$ for all $i = 1,\\ldots,n$\n",
    "\n",
    "2. do for each $i = 1,\\ldots,n$ :\n",
    "\n",
    "   **A.** let $\\delta_i$ be the solution to\n",
    "   $$\n",
    "     \\sum_{x\\in {\\cal X}} \\tilde{p}(x) \\sum_{y\\in {\\cal Y}} p_{\\lambda}(y|x) f_i(x,y) \\exp\\left( \\delta_i f^{\\#}(x,y) \\right) = \\tilde{p}(f_i)\n",
    "   $$\n",
    "   where $\\displaystyle f^{\\#}(x,y) \\equiv \\sum_{i = 1,\\ldots,n} f_i(x,y)$\n",
    "\n",
    "   **B.** update multipliers by $\\lambda_i \\leftarrow \\lambda_i + \\delta_i$\n",
    "\n",
    "3. go back to step 2, if not all $\\lambda_i$ have converged"
   ]
  },
  {
   "cell_type": "markdown",
   "metadata": {},
   "source": [
    "### Weather Forecast Problem (Revisited)\n",
    "\n",
    "Recall that, for $i = 1,\\ldots,n$ ($n$: number of features), we define $f_i(x, y)$, an indicator function of type ${\\cal X}\\times{\\cal Y}\\longrightarrow\\{0, 1\\}$.\n",
    "\n",
    "The weather forecast problem has the following feature set:\n",
    "\\begin{align*}\n",
    "  f_1(x, y) = 1 \\quad & \\text{if} \\ y = \\{misty, foggy, cloudy, sunny, rainy\\} \\\\\n",
    "  f_2(x, y) = 1 \\quad & \\text{if} \\ y = \\{misty, foggy\\} \\\\\n",
    "  f_3(x, y) = 1 \\quad & \\text{if} \\ y = \\{misty, cloudy\\}\n",
    "\\end{align*}\n",
    "otherwise $f_i(x, y) = 0$ for $i = 1,2,3$.\n",
    "\n",
    "We now create a matix for the indicator functions, from which we want to count the number of *active features* by\n",
    "$$\n",
    "  f^{\\#}(x,y) \\equiv \\sum_{i = 1,\\ldots,n} f_i(x,y)\n",
    "$$"
   ]
  },
  {
   "cell_type": "code",
   "execution_count": 1,
   "metadata": {
    "collapsed": false
   },
   "outputs": [
    {
     "data": {
      "text/plain": [
       "array([3, 2, 2, 1, 1])"
      ]
     },
     "execution_count": 1,
     "metadata": {},
     "output_type": "execute_result"
    }
   ],
   "source": [
    "import numpy as np\n",
    "\n",
    "# number of features\n",
    "num_feat = 5\n",
    "\n",
    "# indicator functions\n",
    "indicator = np.array([[1, 1, 1, 1, 1], [1, 1, 0, 0, 0], [1, 0, 1, 0, 0]])\n",
    "\n",
    "# counting the number of 'active features'\n",
    "active_feat = np.array([np.sum(indicator[:,0]), np.sum(indicator[:,1]), np.sum(indicator[:,2]), np.sum(indicator[:,3]), np.sum(indicator[:,4])])\n",
    "active_feat"
   ]
  },
  {
   "cell_type": "markdown",
   "metadata": {},
   "source": [
    "The numbers of active features for \\{misty, foggy, cloudy, sunny, rainy\\} are 3, 2, 2, 1, and 1, respectively.\n",
    "\n",
    "Next, we denote $a = e^{\\delta_1}$, $b = e^{\\delta_2}$ and $c = e^{\\delta_3}$, and define:\n",
    "\\begin{align*}\n",
    "  {\\cal G}(a) &= p(misty)\\cdot a^3 + p(foggy)\\cdot a^2 + p(cloudy)\\cdot a^2 + p(sunny)\\cdot a + p(rainy)\\cdot a - 1 \\\\\n",
    "  {\\cal G}(b) &= p(misty)\\cdot b^3 + p(foggy)\\cdot b^2 - 0.3 \\\\\n",
    "  {\\cal G}(c) &= p(misty)\\cdot c^3 + p(cloudy)\\cdot c^2 - 0.5\n",
    "\\end{align*}\n",
    "To obtain $a$, $b$, and $c$, we achieve the *Newton-Raphson*, eg, $\\displaystyle a_{n+1} = a_n - \\frac{{\\cal G} (a_n)}{{\\cal G}' (a_n)}$ for $a$.  The same for $b$ and $c$.\n",
    "\n",
    "\n",
    "We are able to calculate probabilities from multipliers $\\lambda_1$, $\\lambda_2$, and $\\lambda_3$ :\n",
    "\\begin{align*}\n",
    "  p(misty) &= \\frac{1}{Z_{\\lambda}} \\exp (\\lambda_1 + \\lambda_2 + \\lambda_3) \\\\\n",
    "  p(foggy) &= \\frac{1}{Z_{\\lambda}} \\exp (\\lambda_1 + \\lambda_2) \\\\\n",
    "  p(cloudy) &= \\frac{1}{Z_{\\lambda}} \\exp (\\lambda_1 + \\lambda_3) \\\\\n",
    "  p(sunny) &= \\frac{1}{Z_{\\lambda}} \\exp \\lambda_1 \\\\\n",
    "  p(rainy) &= \\frac{1}{Z_{\\lambda}} \\exp \\lambda_1\n",
    "\\end{align*}"
   ]
  },
  {
   "cell_type": "code",
   "execution_count": 2,
   "metadata": {
    "collapsed": false
   },
   "outputs": [
    {
     "name": "stdout",
     "output_type": "stream",
     "text": [
      "       initial prob: [[ 0.33333333  0.22222222  0.22222222  0.11111111  0.11111111]]\n",
      "iteration 1 :  prob: [[ 0.1678053   0.17475831  0.21325466  0.22209087  0.22209087]]\n",
      "iteration 2 :  prob: [[ 0.17323272  0.16150574  0.23223459  0.21651348  0.21651348]]\n",
      "iteration 3 :  prob: [[ 0.1769317   0.15136629  0.24776784  0.21196709  0.21196709]]\n",
      "iteration 4 :  prob: [[ 0.17946795  0.14354098  0.26041844  0.20828632  0.20828632]]\n",
      "iteration 5 :  prob: [[ 0.18122287  0.13745529  0.27069074  0.20531555  0.20531555]]\n",
      "iteration 6 :  prob: [[ 0.1824508   0.13269137  0.27901631  0.20292076  0.20292076]]\n",
      "iteration 7 :  prob: [[ 0.18332082  0.1289415   0.285756    0.20099084  0.20099084]]\n",
      "iteration 8 :  prob: [[ 0.1839455   0.12597622  0.2912076   0.19943534  0.19943534]]\n",
      "iteration 9 :  prob: [[ 0.18440015  0.12362243  0.29561501  0.19818121  0.19818121]]\n",
      "iteration 10 :  prob: [[ 0.18473552  0.12174815  0.29917697  0.19716968  0.19716968]]\n",
      "iteration 11 :  prob: [[ 0.18498611  0.12025186  0.30205498  0.19635353  0.19635353]]\n",
      "iteration 12 :  prob: [[ 0.1851756   0.11905481  0.30437999  0.1956948   0.1956948 ]]\n",
      "iteration 13 :  prob: [[ 0.18532047  0.1180955   0.30625805  0.19516299  0.19516299]]\n",
      "iteration 14 :  prob: [[ 0.1854323   0.11732563  0.30777497  0.19473355  0.19473355]]\n",
      "iteration 15 :  prob: [[ 0.18551936  0.11670707  0.30900012  0.19438672  0.19438672]]\n",
      "iteration 16 :  prob: [[ 0.18558762  0.11620964  0.30998959  0.19410657  0.19410657]]\n",
      "iteration 17 :  prob: [[ 0.18564148  0.11580929  0.31078871  0.19388026  0.19388026]]\n",
      "iteration 18 :  prob: [[ 0.18568418  0.11548688  0.31143407  0.19369744  0.19369744]]\n",
      "iteration 19 :  prob: [[ 0.18571817  0.11522711  0.31195526  0.19354973  0.19354973]]\n",
      "iteration 20 :  prob: [[ 0.18574533  0.11501771  0.31237617  0.19343039  0.19343039]]\n"
     ]
    }
   ],
   "source": [
    "# observed probabilities\n",
    "obs = np.array([[1.0],[0.3],[0.5]])\n",
    "\n",
    "# initial values are derived from the number of active features\n",
    "prob = np.array([active_feat / np.sum(active_feat)])\n",
    "print(\"       initial prob:\", prob)\n",
    "\n",
    "# lambda's\n",
    "lmbd = np.array([[0.0],[0.0],[0.0]])\n",
    "\n",
    "# the number of iterations\n",
    "num_iterations = 20\n",
    "\n",
    "# to record changes of probabilities for plotting\n",
    "record = np.zeros((num_iterations+1, num_feat))\n",
    "record[0,:] = prob\n",
    "\n",
    "# iterative scaling algorithm\n",
    "for i in range(num_iterations):\n",
    "    delta = np.exp(np.array([[0.0],[0.0],[0.0]]))\n",
    "\n",
    "    # newton-raphson\n",
    "    for j in range(10):\n",
    "        # numerator\n",
    "        a = np.array([delta[0]**active_feat, delta[1]**active_feat, delta[2]**active_feat]) * indicator\n",
    "        g = np.dot(a, prob.T) - obs\n",
    "\n",
    "        # denominator\n",
    "        b = active_feat - 1;\n",
    "        c = np.array([delta[0]**b, delta[1]**b, delta[2]**b]) * indicator\n",
    "        g_prime = np.dot(c, (prob * active_feat).T)\n",
    "\n",
    "        delta -= g / g_prime\n",
    "\n",
    "    # updating lambda's\n",
    "    lmbd += np.log(delta)\n",
    "    e = np.exp(np.dot(lmbd.T, indicator))\n",
    "    \n",
    "    # normalised by Z_{\\lambda}\n",
    "    prob = e / np.sum(e)\n",
    "    record[i+1,:] = prob\n",
    "    print(\"iteration\", i+1, \":  prob:\", prob)"
   ]
  },
  {
   "cell_type": "markdown",
   "metadata": {},
   "source": [
    "The numerical solution above can be compared with the analytical solution which we derived earlier:\n",
    "\\begin{align*}\n",
    "  p(misty) &= \\frac{9 - \\sqrt{51}}{10} = 0.186... \\\\\n",
    "  p(foggy) &= \\frac{\\sqrt{51} - 6}{10} = 0.114... \\\\\n",
    "  p(cloudy) &= \\frac{\\sqrt{51} - 4}{10} = 0.314... \\\\\n",
    "  p(sunny) &= \\frac{11 - \\sqrt{51}}{20} = 0.193... \\\\\n",
    "  p(rainy) &= \\frac{11 - \\sqrt{51}}{20} = 0.193...\n",
    "\\end{align*}\n",
    "We can also plot how the iterative scaling algorithm has reached the numerical solution:"
   ]
  },
  {
   "cell_type": "code",
   "execution_count": 3,
   "metadata": {
    "collapsed": false
   },
   "outputs": [
    {
     "data": {
      "image/png": "[encoded data removed]",
      "text/plain": [
       "<matplotlib.figure.Figure at 0x25d073b5748>"
      ]
     },
     "metadata": {},
     "output_type": "display_data"
    }
   ],
   "source": [
    "%matplotlib inline\n",
    "import pylab as plt\n",
    "\n",
    "plt.axis([-1,21,0,0.4])\n",
    "plt.title(\"weather forcast: numerical solution\")\n",
    "plt.xlabel(\"#iterations\")\n",
    "plt.ylabel(\"probability\")\n",
    "plt.plot(record[:,0], label=\"p(misty)\")\n",
    "plt.plot(record[:,1], label=\"p(foggy)\")\n",
    "plt.plot(record[:,2], label=\"p(cloudy)\")\n",
    "plt.plot(record[:,3], label=\"p(sunny)\")\n",
    "plt.plot(record[:,4], label=\"p(rainy)\")\n",
    "plt.legend(bbox_to_anchor=(1.05, 1), loc=2, borderaxespad=0.)\n",
    "\n",
    "plt.savefig('isa.png')"
   ]
  }
 ],
 "metadata": {
  "kernelspec": {
   "display_name": "Python 3",
   "language": "python",
   "name": "python3"
  },
  "language_info": {
   "codemirror_mode": {
    "name": "ipython",
    "version": 3
   },
   "file_extension": ".py",
   "mimetype": "text/x-python",
   "name": "python",
   "nbconvert_exporter": "python",
   "pygments_lexer": "ipython3",
   "version": "3.5.2"
  }
 },
 "nbformat": 4,
 "nbformat_minor": 0
}
