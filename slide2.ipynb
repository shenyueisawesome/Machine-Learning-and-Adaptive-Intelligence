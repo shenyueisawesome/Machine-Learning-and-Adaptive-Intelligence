{
 "cells": [
  {
   "cell_type": "markdown",
   "metadata": {
    "slideshow": {
     "slide_type": "slide"
    }
   },
   "source": [
    "### week 2\n",
    "\n",
    "# Objective Functions\n",
    "\n",
    "- regression analysis\n",
    "- prediction function and least squares error function\n",
    "- gradient (or steepest) descent algorithm\n",
    "- stochastic gradient descent"
   ]
  },
  {
   "cell_type": "code",
   "execution_count": 1,
   "metadata": {
    "collapsed": false,
    "slideshow": {
     "slide_type": "skip"
    }
   },
   "outputs": [],
   "source": [
    "import pods\n",
    "import notebook as nb\n",
    "import mlai\n",
    "import numpy as np\n",
    "import scipy as sp\n",
    "from matplotlib import pyplot as plt\n",
    "%matplotlib inline"
   ]
  },
  {
   "cell_type": "markdown",
   "metadata": {
    "slideshow": {
     "slide_type": "slide"
    }
   },
   "source": [
    "### Review and Preview\n",
    "\n",
    "- last week we motivated the importance of probability\n",
    "- this week we look at the idea of objective functions"
   ]
  },
  {
   "cell_type": "markdown",
   "metadata": {
    "slideshow": {
     "slide_type": "slide"
    }
   },
   "source": [
    "### Objective Functions\n",
    "\n",
    "Two dominating approaches to machine learning problems:\n",
    "\n",
    "- constructing models by defining the relationship between variables using probabilities (last week)\n",
    "- defining an *objective function* and optimising it (this week)\n",
    "\n",
    "An objective function can be either\n",
    "\n",
    "- error function\n",
    "- cost function\n",
    "- benefit function"
   ]
  },
  {
   "cell_type": "markdown",
   "metadata": {
    "slideshow": {
     "slide_type": "slide"
    }
   },
   "source": [
    "### Machine Learning Using an Objective Function\n",
    "\n",
    "We write down a mathematical equation which is then optimised to do the learning.\n",
    "\n",
    "- the equation should be a function of the *data* and our model *parameters*.\n",
    "- in the optimisation field we always choose to minimise the function (if we have function that we would like to maximise, we simply choose to minimise the negative of that function).\n",
    "\n",
    "Wikipedia: [Loss function](https://en.wikipedia.org/wiki/Loss_function)"
   ]
  },
  {
   "cell_type": "markdown",
   "metadata": {
    "slideshow": {
     "slide_type": "slide"
    }
   },
   "source": [
    "### Overdetermined and Underdetermined Systems\n",
    "\n",
    "Each unknown can be seen as an available degree of freedom, while each equation constrains the system, restricting one degree of freedom.\n",
    "\n",
    "##### Overdetermined system:\n",
    "\n",
    "- the system has been overconstrained\n",
    "- there are more equations than unknowns\n",
    "\n",
    "##### Underdetermined system:\n",
    "\n",
    "- the system has been underconstrained\n",
    "- the number of equations is fewer than the number of unknowns"
   ]
  },
  {
   "cell_type": "markdown",
   "metadata": {
    "slideshow": {
     "slide_type": "slide"
    }
   },
   "source": [
    "### Classification\n",
    "\n",
    "- classification is a schematic that shows the organisation of data starting with a precursor variable\n",
    "- map data point to a class label\n",
    "- dependent variables are categorical and unordered\n",
    "\n",
    "<img src=\"https://upload.wikimedia.org/wikipedia/commons/4/46/Linear-svm-scatterplot.svg\", width=400>"
   ]
  },
  {
   "cell_type": "markdown",
   "metadata": {
    "slideshow": {
     "slide_type": "slide"
    }
   },
   "source": [
    "\n",
    "### Regression\n",
    "\n",
    "- regression is a prediction method that is based on an assumed or known numerical output value\n",
    "- map feature to a real value\n",
    "- dependent variables are continuous or ordered whole values\n",
    "\n",
    "<img src=\"https://upload.wikimedia.org/wikipedia/commons/b/be/Normdist_regression.png\", width=360>"
   ]
  },
  {
   "cell_type": "markdown",
   "metadata": {
    "slideshow": {
     "slide_type": "slide"
    }
   },
   "source": [
    "### What is Machine Learning?\n",
    "\n",
    "**<center>data + model = prediction</center>**\n",
    "\n",
    "- **data**: observations - could be actively or passively acquired (meta-data)\n",
    "- **model**: assumptions - based on previous experience, or beliefs about the regularities of the universe\n",
    "- **prediction**: an action to be taken, a categorization or a quality score"
   ]
  },
  {
   "cell_type": "markdown",
   "metadata": {
    "slideshow": {
     "slide_type": "slide"
    }
   },
   "source": [
    "### Prediction Function\n",
    "\n",
    "Suppose a set of $n$ data points $(x_1, y_1),\\ldots,(x_n, y_n)$ is given.\n",
    "\n",
    "A linear *prediction function* is\n",
    "$$\n",
    "    f(x_i) = mx_i + c\n",
    "$$\n",
    "where $m$ and $c$ denote a slope and an offset.\n",
    "\n",
    "We need an algorithm to fit $f(x_i)$ to data."
   ]
  },
  {
   "cell_type": "markdown",
   "metadata": {
    "slideshow": {
     "slide_type": "slide"
    }
   },
   "source": [
    "### Error Function (Objective Function)\n",
    "\n",
    "- regression analysis is a statistical process for estimating the relationships among variables.\n",
    "- in regression analysis least squares is a standard approach to soluving overdetermined systems.\n",
    "\n",
    "*Least squares* is an error function that minimises a sum of squared errors between real value $y_i$ and the prediction $f(x_i)$:\n",
    "$$\n",
    "    E(m, c) = \\sum_{i=1}^n (y_i - f(x_i))^2 = \\sum_{i=1}^n (y_i - mx_i - c)^2\n",
    "$$"
   ]
  },
  {
   "cell_type": "markdown",
   "metadata": {
    "slideshow": {
     "slide_type": "slide"
    }
   },
   "source": [
    "### Data Set\n",
    "\n",
    "Let's start with creating an artifical data set."
   ]
  },
  {
   "cell_type": "code",
   "execution_count": 2,
   "metadata": {
    "collapsed": false,
    "slideshow": {
     "slide_type": "-"
    }
   },
   "outputs": [
    {
     "data": {
      "text/plain": [
       "array([ 0.36583193, -0.55392598,  0.08951493,  0.04675371])"
      ]
     },
     "execution_count": 2,
     "metadata": {},
     "output_type": "execute_result"
    }
   ],
   "source": [
    "x = np.random.normal(size=4)  # create four (4) data points\n",
    "x"
   ]
  },
  {
   "cell_type": "markdown",
   "metadata": {
    "slideshow": {
     "slide_type": "slide"
    }
   },
   "source": [
    "We now need to decide on a *true* value for $m$ and a *true* value for $c$ to use for generating the data. "
   ]
  },
  {
   "cell_type": "code",
   "execution_count": 3,
   "metadata": {
    "collapsed": false,
    "slideshow": {
     "slide_type": "-"
    }
   },
   "outputs": [],
   "source": [
    "m_true = 1.4  # true value for slope\n",
    "c_true = -3.1  # true value for offset"
   ]
  },
  {
   "cell_type": "markdown",
   "metadata": {
    "slideshow": {
     "slide_type": "slide"
    }
   },
   "source": [
    "We can use these values to create our artificial data. The formula\n",
    "$$\n",
    "    y_i = mx_i + c\n",
    "$$\n",
    "is translated to code as follows:"
   ]
  },
  {
   "cell_type": "code",
   "execution_count": 4,
   "metadata": {
    "collapsed": false,
    "slideshow": {
     "slide_type": "-"
    }
   },
   "outputs": [
    {
     "data": {
      "text/plain": [
       "array([-2.5878353 , -3.87549638, -2.9746791 , -3.03454481])"
      ]
     },
     "execution_count": 4,
     "metadata": {},
     "output_type": "execute_result"
    }
   ],
   "source": [
    "y = m_true * x + c_true\n",
    "y"
   ]
  },
  {
   "cell_type": "markdown",
   "metadata": {
    "slideshow": {
     "slide_type": "slide"
    }
   },
   "source": [
    "We can now plot the artifical data we've created."
   ]
  },
  {
   "cell_type": "code",
   "execution_count": 5,
   "metadata": {
    "collapsed": false,
    "slideshow": {
     "slide_type": "-"
    }
   },
   "outputs": [
    {
     "data": {
      "text/plain": [
       "(-3, 3)"
      ]
     },
     "execution_count": 5,
     "metadata": {},
     "output_type": "execute_result"
    },
    {
     "data": {
      "image/png": "[encoded data removed]",
      "text/plain": [
       "<matplotlib.figure.Figure at 0x17104632cc0>"
      ]
     },
     "metadata": {},
     "output_type": "display_data"
    }
   ],
   "source": [
    "plt.plot(x, y, 'r.', markersize=10)  # plot data as red dots\n",
    "plt.xlim([-3, 3])"
   ]
  },
  {
   "cell_type": "markdown",
   "metadata": {
    "slideshow": {
     "slide_type": "slide"
    }
   },
   "source": [
    "These points lie exactly on a straight line, that's not very realistic, let's corrupt them with a bit of Gaussian 'noise'."
   ]
  },
  {
   "cell_type": "code",
   "execution_count": 6,
   "metadata": {
    "collapsed": false,
    "slideshow": {
     "slide_type": "-"
    }
   },
   "outputs": [
    {
     "data": {
      "text/plain": [
       "(-3, 3)"
      ]
     },
     "execution_count": 6,
     "metadata": {},
     "output_type": "execute_result"
    },
    {
     "data": {
      "image/png": "[encoded data removed]",
      "text/plain": [
       "<matplotlib.figure.Figure at 0x171046ee668>"
      ]
     },
     "metadata": {},
     "output_type": "display_data"
    }
   ],
   "source": [
    "noise = np.random.normal(scale=0.5, size=4)  # standard deviation of the noise: 0.5\n",
    "y = m_true * x + c_true + noise\n",
    "plt.plot(x, y, 'r.', markersize=10)\n",
    "plt.xlim([-3, 3])"
   ]
  },
  {
   "cell_type": "markdown",
   "metadata": {
    "slideshow": {
     "slide_type": "slide"
    }
   },
   "source": [
    "### Contour Plot of Error Function\n",
    "\n",
    "Here we visualise the error function surface, create vectors of values."
   ]
  },
  {
   "cell_type": "code",
   "execution_count": 7,
   "metadata": {
    "collapsed": true,
    "slideshow": {
     "slide_type": "-"
    }
   },
   "outputs": [],
   "source": [
    "# create an array of linearly separated values around m_true/c_true\n",
    "m_vals = np.linspace(m_true-3, m_true+3, 100)\n",
    "c_vals = np.linspace(c_true-3, c_true+3, 100)\n",
    "\n",
    "# create a grid of values to evaluate the error function in 2D\n",
    "m_grid, c_grid = np.meshgrid(m_vals, c_vals)\n",
    "\n",
    "# compute the error function at each combination of c and m\n",
    "E_grid = np.zeros((100, 100))\n",
    "for i in range(100):\n",
    "    for j in range(100):\n",
    "        E_grid[i, j] = ((y - m_grid[i, j] * x - c_grid[i, j])**2).sum()"
   ]
  },
  {
   "cell_type": "markdown",
   "metadata": {
    "slideshow": {
     "slide_type": "slide"
    }
   },
   "source": [
    "We can now make a contour plot."
   ]
  },
  {
   "cell_type": "code",
   "execution_count": 8,
   "metadata": {
    "collapsed": false,
    "slideshow": {
     "slide_type": "-"
    }
   },
   "outputs": [],
   "source": [
    "# define a function for contour plot\n",
    "def regression_contour(f, ax, m_vals, c_vals, E_grid):\n",
    "\n",
    "    # contour plot\n",
    "    hcont = ax.contour(m_vals, c_vals, E_grid, levels=[0, 0.5, 1, 2, 4, 8, 16, 32, 64])\n",
    "\n",
    "    # contour labels\n",
    "    plt.clabel(hcont, inline=1, fontsize=15)\n",
    "\n",
    "    # axis labels\n",
    "    ax.set_xlabel('$m$', fontsize=25)\n",
    "    ax.set_ylabel('$c$', fontsize=25)"
   ]
  },
  {
   "cell_type": "code",
   "execution_count": 9,
   "metadata": {
    "collapsed": false,
    "slideshow": {
     "slide_type": "slide"
    }
   },
   "outputs": [
    {
     "data": {
      "image/png": "[encoded data removed]",
      "text/plain": [
       "<matplotlib.figure.Figure at 0x171047512e8>"
      ]
     },
     "metadata": {},
     "output_type": "display_data"
    }
   ],
   "source": [
    "f, ax = plt.subplots(figsize=(8, 6))\n",
    "regression_contour(f, ax, m_vals, c_vals, E_grid)\n",
    "plt.savefig('./diagrams/regression_contour.svg')  # saving the figure"
   ]
  },
  {
   "cell_type": "markdown",
   "metadata": {
    "slideshow": {
     "slide_type": "slide"
    }
   },
   "source": [
    "### Gradient (or Steepest) Descent Algorithm\n",
    "\n",
    "We would like to minimise the sum of squares error function:\n",
    "$$\n",
    "    E(m, c) = \\sum_{i=1}^n (y_i - mx_i - c)^2\n",
    "$$\n",
    "One way of doing this is gradient descent.\n",
    "\n",
    "- $m$ and $c$ are initialised by a guess, which is updated by subtracting a portion of the gradient from the guess.\n",
    "- it is like walking down a hill in the steepest direction of the hill to approach the bottom.\n",
    "\n",
    "Wikipedia: [Gradient descent](https://en.wikipedia.org/wiki/Gradient_descent)"
   ]
  },
  {
   "cell_type": "markdown",
   "metadata": {
    "slideshow": {
     "slide_type": "slide"
    }
   },
   "source": [
    "We start with a guess for a slope $m$ and an offset $c$."
   ]
  },
  {
   "cell_type": "code",
   "execution_count": 10,
   "metadata": {
    "collapsed": false,
    "slideshow": {
     "slide_type": "-"
    }
   },
   "outputs": [],
   "source": [
    "m_star = 0.0  # guess (initial value) for slope\n",
    "c_star = -5.0  # guess (initial value) for offset"
   ]
  },
  {
   "cell_type": "markdown",
   "metadata": {
    "slideshow": {
     "slide_type": "slide"
    }
   },
   "source": [
    "### Offset Gradient\n",
    "\n",
    "Firstly we calculate the gradient of the error function with respect to the offset $c$:\n",
    "$$\n",
    "    \\frac{\\partial}{\\partial c} E(m, c) = -2\\sum_{i=1}^n (y_i - mx_i - c)\n",
    "$$\n",
    "This is computed in python as follows:"
   ]
  },
  {
   "cell_type": "code",
   "execution_count": 11,
   "metadata": {
    "collapsed": false,
    "slideshow": {
     "slide_type": "-"
    }
   },
   "outputs": [
    {
     "name": "stdout",
     "output_type": "stream",
     "text": [
      "Gradient with respect to c is -14.3080723336\n"
     ]
    }
   ],
   "source": [
    "c_grad = -2 * (y - m_star * x - c_star).sum()\n",
    "print(\"Gradient with respect to c is\", c_grad)"
   ]
  },
  {
   "cell_type": "markdown",
   "metadata": {
    "slideshow": {
     "slide_type": "slide"
    }
   },
   "source": [
    "#### (note) deriving the gradient\n",
    "\n",
    "To see how the gradient was derived, first note that the $c$ appears in every term in the sum. So we are just differentiating $(y_i - mx_i - c)^2$ for each term in the sum. The gradient of this term with respect to $c$ is simply the gradient of the outer quadratic, multiplied by the gradient with respect to $c$ of the part inside the quadratic. The gradient of a quadratic is two times the argument of the quadratic, and the gradient of the inside linear term is just minus one. This is true for all terms in the sum, so we are left with the sum in the gradient."
   ]
  },
  {
   "cell_type": "markdown",
   "metadata": {
    "slideshow": {
     "slide_type": "slide"
    }
   },
   "source": [
    "### Slope Gradient\n",
    "\n",
    "The gradient with respect to $m$ is similar, but now the gradient of the quadratic's argument is $-x_i$, thus\n",
    "$$\n",
    "    \\frac{\\partial}{\\partial m} E(m, c) = -2\\sum_{i=1}^n x_i(y_i - mx_i - c)\n",
    "$$\n",
    "which can be implemented in python (numpy) as follows."
   ]
  },
  {
   "cell_type": "code",
   "execution_count": 12,
   "metadata": {
    "collapsed": false,
    "slideshow": {
     "slide_type": "-"
    }
   },
   "outputs": [
    {
     "name": "stdout",
     "output_type": "stream",
     "text": [
      "Gradient with respect to m is 0.519057945068\n"
     ]
    }
   ],
   "source": [
    "m_grad = -2 * (x * (y - m_star * x - c_star)).sum()\n",
    "print(\"Gradient with respect to m is\", m_grad)"
   ]
  },
  {
   "cell_type": "markdown",
   "metadata": {
    "slideshow": {
     "slide_type": "slide"
    }
   },
   "source": [
    "### Gradient Descent: Update Equations\n",
    "\n",
    "Now we have gradients with respect to $m$ and $c$.\n",
    "\n",
    "- we can update our inital guesses for $m$ and $c$ using the gradient.\n",
    "- we don't want to just subtract the gradient from $m$ and $c$, instead we need to take a *small* step in the gradient direction; otherwise we might overshoot.\n",
    "- we want to follow the gradient to reach the minimum; the gradient changes all the time."
   ]
  },
  {
   "cell_type": "code",
   "execution_count": 13,
   "metadata": {
    "collapsed": false,
    "slideshow": {
     "slide_type": "slide"
    }
   },
   "outputs": [
    {
     "data": {
      "image/png": "[encoded data removed]",
      "text/plain": [
       "<matplotlib.figure.Figure at 0x17105b89da0>"
      ]
     },
     "metadata": {},
     "output_type": "display_data"
    }
   ],
   "source": [
    "f, ax = plt.subplots(figsize=(8,6))\n",
    "regression_contour(f, ax, m_vals, c_vals, E_grid)\n",
    "ax.plot(m_star, c_star, 'g*', markersize=20)  # current position\n",
    "ax.arrow(m_star, c_star, -m_grad*0.1, -c_grad*0.1, head_width=0.2)  # direction of the gradient\n",
    "plt.savefig('./diagrams/regression_contour_step1.svg')  # saving the figure"
   ]
  },
  {
   "cell_type": "markdown",
   "metadata": {
    "slideshow": {
     "slide_type": "slide"
    }
   },
   "source": [
    "$c_\\text{new}$ and $m_\\text{new}$ give us an update for our estimate of $c$ and $m$:\n",
    "\\begin{align*}\n",
    "    c_\\text{new} & \\leftarrow c_{\\text{old}} - \\eta \\frac{\\partial}{\\partial c} E(m, c) \\\\\n",
    "    m_\\text{new} & \\leftarrow m_{\\text{old}} - \\eta \\frac{\\partial}{\\partial m} E(m, c)\n",
    "\\end{align*}\n",
    "\n",
    "- the step size is known as the learning rate and is denoted by $\\eta$.\n",
    "- in the code we've been calling `c_star` and `m_star` to represent a common way of writing parameter estimates, $c^*$ and $m^*$."
   ]
  },
  {
   "cell_type": "markdown",
   "metadata": {
    "slideshow": {
     "slide_type": "slide"
    }
   },
   "source": [
    "These updates can be coded as the following."
   ]
  },
  {
   "cell_type": "code",
   "execution_count": 14,
   "metadata": {
    "collapsed": false,
    "slideshow": {
     "slide_type": "-"
    }
   },
   "outputs": [
    {
     "name": "stdout",
     "output_type": "stream",
     "text": [
      "The learning rate is 0.01\n",
      "Initially, m was 0.0 and c was -5.0\n",
      "After one update, m is -0.00519057945068 and c is -4.85691927666\n"
     ]
    }
   ],
   "source": [
    "learn_rate = 0.01  # learning rate\n",
    "print(\"The learning rate is\", learn_rate)\n",
    "print(\"Initially, m was\", m_star, \"and c was\", c_star)\n",
    "c_star = c_star - learn_rate * c_grad\n",
    "m_star = m_star - learn_rate * m_grad\n",
    "print(\"After one update, m is\", m_star, \"and c is\", c_star)"
   ]
  },
  {
   "cell_type": "markdown",
   "metadata": {
    "slideshow": {
     "slide_type": "slide"
    }
   },
   "source": [
    "By iterating updates we are descending gradient, gradually fitting the model."
   ]
  },
  {
   "cell_type": "code",
   "execution_count": 15,
   "metadata": {
    "collapsed": false,
    "slideshow": {
     "slide_type": "-"
    }
   },
   "outputs": [],
   "source": [
    "# define a function for iterating gradient calculation\n",
    "def regression_contour_fit(ax, iterations, learn_rate, m_star, c_star, x, y):\n",
    "    for i in range(iterations):\n",
    "\n",
    "        # update offset\n",
    "        c_grad = -2 * (y - m_star * x - c_star).sum()\n",
    "        c_star = c_star - learn_rate * c_grad\n",
    "\n",
    "        # update slope\n",
    "        m_grad = -2 * (x * (y - m_star * x - c_star)).sum()\n",
    "        m_star = m_star - learn_rate * m_grad\n",
    "\n",
    "        # plot the current position\n",
    "        ax.plot(m_star, c_star, 'g*', markersize=10)"
   ]
  },
  {
   "cell_type": "code",
   "execution_count": 16,
   "metadata": {
    "collapsed": false,
    "slideshow": {
     "slide_type": "slide"
    }
   },
   "outputs": [
    {
     "data": {
      "image/png": "[encoded data removed]",
      "text/plain": [
       "<matplotlib.figure.Figure at 0x171047b0f98>"
      ]
     },
     "metadata": {},
     "output_type": "display_data"
    }
   ],
   "source": [
    "# contour plot\n",
    "f, ax = plt.subplots(figsize=(8, 6))\n",
    "regression_contour(f, ax, m_vals, c_vals, E_grid)\n",
    "ax.set_title('gradient descent', fontsize=25)\n",
    "\n",
    "# plot the initial position\n",
    "m_star = 0.0\n",
    "c_star = -5.0\n",
    "ax.plot(m_star, c_star, 'g*', markersize=10)\n",
    "\n",
    "# plot the updated positions\n",
    "iterations = 100  # number of iterations\n",
    "learn_rate = 0.01  # learning rate\n",
    "regression_contour_fit(ax, iterations, learn_rate, m_star, c_star, x, y)"
   ]
  },
  {
   "cell_type": "markdown",
   "metadata": {
    "slideshow": {
     "slide_type": "slide"
    }
   },
   "source": [
    "### Stochastic Gradient Descent Algorithm\n",
    "\n",
    "If the number of data points $n$ is small, gradient descent is fine, but sometimes (eg. 'Big Data') $n$ could be a billion.\n",
    "\n",
    "- stochastic gradient descent is more similar to perceptron.\n",
    "- it looks at gradient of one data point at a time rather than summing across *all* data points.\n",
    "- this gives a stochastic estimate of gradient.\n",
    "\n",
    "Wikipedia: [Stochastic gradient descent](https://en.wikipedia.org/wiki/Stochastic_gradient_descent)"
   ]
  },
  {
   "cell_type": "markdown",
   "metadata": {
    "slideshow": {
     "slide_type": "slide"
    }
   },
   "source": [
    "The real gradient with respect to $m$ is given by\n",
    "$$\n",
    "    \\frac{\\partial}{\\partial m} E(m, c) = -2\\sum_{i=1}^n x_i(y_i - mx_i - c)\n",
    "$$\n",
    "but it has $n$ terms in the sum. Substituting in the gradient we can see that the full update is of the form:\n",
    "$$\n",
    "    m_\\text{new} \\leftarrow m_\\text{old} + 2\\eta \\left\\{x_1 (y_1 - m_\\text{old}x_1 - c_\\text{old}) + x_2 (y_2 - m_\\text{old}x_2 - c_\\text{old}) + \\ldots + x_n (y_n - m_\\text{old}x_n - c_\\text{old})\\right\\}\n",
    "$$"
   ]
  },
  {
   "cell_type": "markdown",
   "metadata": {
    "slideshow": {
     "slide_type": "slide"
    }
   },
   "source": [
    "This could be split up into lots of individual updates:\n",
    "\\begin{align*}\n",
    "    m_1 & \\leftarrow m_\\text{old} + 2\\eta x_1 (y_1 - m_\\text{old}x_1 - c_\\text{old}) \\\\\n",
    "    m_2 & \\leftarrow m_1 + 2\\eta x_2 (y_2 - m_\\text{old}x_2 - c_\\text{old}) \\\\\n",
    "        & \\dots \\\\\n",
    "    m_{new} & \\leftarrow m_{n-1} + 2\\eta x_n (y_n - m_\\text{old}x_n - c_\\text{old})\n",
    "\\end{align*}\n",
    "which would lead to the same final update.\n",
    "Here is one observation:\n",
    "\n",
    "- in the sum we don't change $m_\\text{old}$ and $c_\\text{old}$ used for computing the gradient term at each update.\n",
    "\n",
    "In *stochastic gradient descent* we *do* change them. This means it's not quite the same as gradient descent."
   ]
  },
  {
   "cell_type": "markdown",
   "metadata": {
    "slideshow": {
     "slide_type": "slide"
    }
   },
   "source": [
    "### Stochastic Gradient Descent: Updating $c$ and $m$\n",
    "\n",
    "We can present each data point in a random order, like we did for the perceptron.\n",
    "\n",
    "- this makes the algorithm suitable for large scale web use.\n",
    "- recently this domain is know as 'Big Data'.\n",
    "- algorithms like this are widely used by Google, Microsoft, Amazon, Twitter and Facebook.\n",
    "\n",
    "Or more accurately, since the data is normally presented in a random order, we just can write\n",
    "$$\n",
    "    m_\\text{new} = m_\\text{old} + 2\\eta \\left\\{ x_i (y_i - m_\\text{old}x_i - c_\\text{old}) \\right\\}\n",
    "$$"
   ]
  },
  {
   "cell_type": "code",
   "execution_count": 17,
   "metadata": {
    "collapsed": false,
    "slideshow": {
     "slide_type": "slide"
    }
   },
   "outputs": [],
   "source": [
    "# choose a random point for the update\n",
    "i = np.random.randint(x.shape[0] - 1)\n",
    "\n",
    "# update slope\n",
    "m_star = m_star + 2 * learn_rate * x[i] * (y[i] - m_star*x[i] - c_star)\n",
    "\n",
    "# update offset\n",
    "c_star = c_star + 2 * learn_rate * (y[i] - m_star*x[i] - c_star)"
   ]
  },
  {
   "cell_type": "markdown",
   "metadata": {
    "slideshow": {
     "slide_type": "slide"
    }
   },
   "source": [
    "Putting them all together in an algorithm, we can do stochastic gradient descent for our regression data."
   ]
  },
  {
   "cell_type": "code",
   "execution_count": 18,
   "metadata": {
    "collapsed": true,
    "slideshow": {
     "slide_type": "-"
    }
   },
   "outputs": [],
   "source": [
    "# define a function for stochastic gradient calculation\n",
    "def regression_contour_sgd(ax, learn_rate, m_star, c_star, x, y):\n",
    "\n",
    "    # choose a random point for the update\n",
    "    i = np.random.randint(x.shape[0] - 1)\n",
    "\n",
    "    # update slope\n",
    "    m_star = m_star + 2 * learn_rate * x[i] * (y[i] - m_star*x[i] - c_star)\n",
    "\n",
    "    # update offset\n",
    "    c_star = c_star + 2 * learn_rate * (y[i] - m_star*x[i] - c_star)\n",
    "\n",
    "    # plot the current position\n",
    "    ax.plot(m_star, c_star, 'g*', markersize=10)\n",
    "\n",
    "    # return updates\n",
    "    return m_star, c_star"
   ]
  },
  {
   "cell_type": "code",
   "execution_count": 19,
   "metadata": {
    "collapsed": false,
    "slideshow": {
     "slide_type": "slide"
    }
   },
   "outputs": [
    {
     "data": {
      "image/png": "[encoded data removed]",
      "text/plain": [
       "<matplotlib.figure.Figure at 0x17105c7c780>"
      ]
     },
     "metadata": {},
     "output_type": "display_data"
    }
   ],
   "source": [
    "# contour plot\n",
    "f, ax = plt.subplots(figsize=(8, 6))\n",
    "regression_contour(f, ax, m_vals, c_vals, E_grid)\n",
    "ax.set_title('stochastic gradient descent', fontsize=25)\n",
    "\n",
    "# plot the initial position\n",
    "m_star = 0.0\n",
    "c_star = -5.0\n",
    "ax.plot(m_star, c_star, 'g*', markersize=10)\n",
    "\n",
    "# plot the updated positions\n",
    "iterations = 100  # number of iterations\n",
    "learn_rate = 0.01  # learning rate\n",
    "for i in range(iterations):\n",
    "    m_star, c_star = regression_contour_sgd(ax, learn_rate, m_star, c_star, x, y)"
   ]
  },
  {
   "cell_type": "markdown",
   "metadata": {
    "slideshow": {
     "slide_type": "slide"
    }
   },
   "source": [
    "### Reflection: Linear Regression and Supervised Learning\n",
    "\n",
    "Think about:\n",
    "\n",
    "1. What effect does the learning rate have in the optimisation? What's the effect of making it too small, what's the effect of making it too big? Do you get the same result for both stochastic and steepest gradient descent?\n",
    "\n",
    "2. The stochastic gradient descent doesn't help very much for such a small data set. It's real advantage comes when there are many, you'll see this in the lab.\n"
   ]
  }
 ],
 "metadata": {
  "celltoolbar": "Slideshow",
  "kernelspec": {
   "display_name": "Python 3",
   "language": "python",
   "name": "python3"
  },
  "language_info": {
   "codemirror_mode": {
    "name": "ipython",
    "version": 3
   },
   "file_extension": ".py",
   "mimetype": "text/x-python",
   "name": "python",
   "nbconvert_exporter": "python",
   "pygments_lexer": "ipython3",
   "version": "3.5.2"
  }
 },
 "nbformat": 4,
 "nbformat_minor": 0
}
