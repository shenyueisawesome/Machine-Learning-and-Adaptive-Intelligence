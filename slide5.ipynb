{
 "cells": [
  {
   "cell_type": "markdown",
   "metadata": {
    "slideshow": {
     "slide_type": "slide"
    }
   },
   "source": [
    "### week 5\n",
    "\n",
    "# Generalisation\n",
    "\n",
    "- over-fitting problem\n",
    "- hold out validation\n",
    "- leave one out and cross validation\n",
    "- bias variance tradeoff"
   ]
  },
  {
   "cell_type": "code",
   "execution_count": 1,
   "metadata": {
    "collapsed": true,
    "slideshow": {
     "slide_type": "skip"
    }
   },
   "outputs": [],
   "source": [
    "import pods\n",
    "import notebook as nb\n",
    "import mlai\n",
    "import numpy as np\n",
    "import scipy as sp\n",
    "from matplotlib import pyplot as plt\n",
    "%matplotlib inline"
   ]
  },
  {
   "cell_type": "code",
   "execution_count": 2,
   "metadata": {
    "collapsed": false,
    "slideshow": {
     "slide_type": "skip"
    }
   },
   "outputs": [],
   "source": [
    "basis = mlai.polynomial\n",
    "data = pods.datasets.olympic_marathon_men()\n",
    "x = data['X']\n",
    "y = data['Y']\n",
    "data_limits = [1892, 2020]\n",
    "num_data = x.shape[0]\n",
    "max_basis = 7"
   ]
  },
  {
   "cell_type": "markdown",
   "metadata": {
    "slideshow": {
     "slide_type": "slide"
    }
   },
   "source": [
    "### Review and Preview\n",
    "\n",
    "- Last week we studied *basis functions*\n",
    "- We saw how the likelihood of a nonlinear regression model could be maximised\n",
    "- This week we look at an over-fitting problem in machine learning and explore how to validate the model"
   ]
  },
  {
   "cell_type": "markdown",
   "metadata": {
    "slideshow": {
     "slide_type": "slide"
    }
   },
   "source": [
    "### Recall: Olympic Marathon Data"
   ]
  },
  {
   "cell_type": "code",
   "execution_count": 3,
   "metadata": {
    "collapsed": false,
    "slideshow": {
     "slide_type": "-"
    }
   },
   "outputs": [
    {
     "data": {
      "text/plain": [
       "[<matplotlib.lines.Line2D at 0x203a7ed1cf8>]"
      ]
     },
     "execution_count": 3,
     "metadata": {},
     "output_type": "execute_result"
    },
    {
     "data": {
      "image/png": "[encoded data removed]",
      "text/plain": [
       "<matplotlib.figure.Figure at 0x203a7ed1d30>"
      ]
     },
     "metadata": {},
     "output_type": "display_data"
    }
   ],
   "source": [
    "f, ax = plt.subplots(figsize=(6,6))\n",
    "ax.plot(data['X'], data['Y'], 'r.',markersize=16)"
   ]
  },
  {
   "cell_type": "markdown",
   "metadata": {
    "slideshow": {
     "slide_type": "slide"
    }
   },
   "source": [
    "### Alan Turing\n",
    "\n",
    "![Alan Turing running in 1946](http://www.turing.org.uk/turing/pi2/run.jpg)\n",
    "\n",
    "**Alan Turing** was a formidable Marathon runner.\n",
    "In 1946 he ran a time 2 hours 46 minutes, which was only 11 minutes slower than the winner of the 1948 games.\n",
    "\n",
    "Would he have won a hypothetical games held in 1946?\n",
    "What is the probability he won an Olympics if one had been held in 1946?\n",
    "\n",
    "Source: [Alan Turing Internet Scrapbook](http://www.turing.org.uk/scrapbook/run.html)\n",
    "\n",
    "Wikipedia: [Alan Turing](https://en.wikipedia.org/wiki/Alan_Turing)"
   ]
  },
  {
   "cell_type": "markdown",
   "metadata": {
    "slideshow": {
     "slide_type": "slide"
    }
   },
   "source": [
    "### Polynomial Fits to Olymics Data\n",
    "\n",
    "Last week we saw an error function with basis functions (eg, polynomial basis):\n",
    "$$\n",
    "  E(\\mathbf{w},\\sigma^2) = \\frac{n}{2}\\log\\sigma^2 + \\sum_{i=1}^n \\frac{(y_i - \\mathbf{w}^\\top \\boldsymbol{\\phi}_i)^2}{2\\sigma^2}\n",
    "$$\n",
    "then used an algorithm to find values for $\\mathbf{w}$ and $\\sigma^2$ that minimised $E(\\mathbf{w},\\sigma^2)$ .\n",
    "\n",
    "Wikipedia: [Polynomial regression](https://en.wikipedia.org/wiki/Polynomial_regression)\n",
    "\n",
    "(next graph) finding polynomial fits when the number of basis are between 1 and 7"
   ]
  },
  {
   "cell_type": "code",
   "execution_count": 4,
   "metadata": {
    "collapsed": false,
    "slideshow": {
     "slide_type": "slide"
    }
   },
   "outputs": [
    {
     "data": {
      "text/html": [
       "<img src='./diagrams/olympic_LM_polynomial_num_basis004.svg'>"
      ],
      "text/plain": [
       "<IPython.core.display.HTML object>"
      ]
     },
     "metadata": {},
     "output_type": "display_data"
    }
   ],
   "source": [
    "nb.display_plots('olympic_LM_polynomial_num_basis{num_basis:0>3}.svg', directory='./diagrams', num_basis=(1, max_basis))"
   ]
  },
  {
   "cell_type": "markdown",
   "metadata": {
    "slideshow": {
     "slide_type": "slide"
    }
   },
   "source": [
    "We see that by using seven basis the polynomial fit better to the data than when using the less number of basis.\n",
    "\n",
    "Could we say - the more the basis the better the model?"
   ]
  },
  {
   "cell_type": "markdown",
   "metadata": {
    "slideshow": {
     "slide_type": "slide"
    }
   },
   "source": [
    "### Overfitting\n",
    "\n",
    "By increasing the number of basis functions we obtain a better 'fit' to the data.\n",
    "How will the model perform on previously unseen data?\n",
    "\n",
    "Wikipedia: [Overfitting](https://en.wikipedia.org/wiki/Overfitting)\n",
    "\n",
    "(next graph) suppose we know the winning time (red circles) up to year 1984, are we able to predict those (green) for the rest of years?"
   ]
  },
  {
   "cell_type": "code",
   "execution_count": 5,
   "metadata": {
    "collapsed": false,
    "slideshow": {
     "slide_type": "slide"
    }
   },
   "outputs": [
    {
     "data": {
      "text/html": [
       "<img src='./diagrams/olympic_val_LM_polynomial_num_basis004.svg'>"
      ],
      "text/plain": [
       "<IPython.core.display.HTML object>"
      ]
     },
     "metadata": {},
     "output_type": "display_data"
    }
   ],
   "source": [
    "nb.display_plots('olympic_val_LM_polynomial_num_basis{num_basis:0>3}.svg', directory='./diagrams', num_basis=(1, max_basis))"
   ]
  },
  {
   "cell_type": "markdown",
   "metadata": {
    "slideshow": {
     "slide_type": "slide"
    }
   },
   "source": [
    "### Extrapolation\n",
    "\n",
    "We are extrapolating beyond where the model has learnt.\n",
    "This is known as **extrapolation**.\n",
    "\n",
    "Here extrapolation is predicting into the future here but it could be:\n",
    "- predicting back to the unseen past (pre 1892)\n",
    "- spatial prediction (eg, Cholera rates outside Manchester given rates inside Manchester)"
   ]
  },
  {
   "cell_type": "markdown",
   "metadata": {
    "slideshow": {
     "slide_type": "slide"
    }
   },
   "source": [
    "### Interpolation\n",
    "\n",
    "Predicting the wining time for 1946 Olympics is **interpolation**.\n",
    "There wasn't an Olympics between 1936 and 1948.\n",
    "\n",
    "If we want a model for interpolation how can we test it?\n",
    "One trick is to sample the validation set from throughout the dataset (eg, **hold out validation**)\n",
    "\n",
    "Wikipedia: [Regression validation](https://en.wikipedia.org/wiki/Regression_validation)"
   ]
  },
  {
   "cell_type": "markdown",
   "metadata": {
    "slideshow": {
     "slide_type": "slide"
    }
   },
   "source": [
    "### Hold Out Validation\n",
    "\n",
    "We assign data points to the **training set** and the **validation set**.\n",
    "\n",
    "Choice of the validation set should reflect how you will use the model in practice:\n",
    "- for **extrapolation** into the future we try validating with data from the future\n",
    "- for **interpolation** we choose the validation set from data\n",
    "\n",
    "For different validation sets we could get different results.\n",
    "\n",
    "(next graph) hold out validation: validation set is in green"
   ]
  },
  {
   "cell_type": "code",
   "execution_count": 6,
   "metadata": {
    "collapsed": false,
    "slideshow": {
     "slide_type": "slide"
    }
   },
   "outputs": [
    {
     "data": {
      "text/html": [
       "<img src='./diagrams/olympic_val_inter_LM_polynomial_num_basis004.svg'>"
      ],
      "text/plain": [
       "<IPython.core.display.HTML object>"
      ]
     },
     "metadata": {},
     "output_type": "display_data"
    }
   ],
   "source": [
    "nb.display_plots('olympic_val_inter_LM_polynomial_num_basis{num_basis:0>3}.svg', directory='./diagrams', num_basis=(1, max_basis))"
   ]
  },
  {
   "cell_type": "markdown",
   "metadata": {
    "slideshow": {
     "slide_type": "slide"
    }
   },
   "source": [
    "### Leave One Out Error\n",
    "\n",
    "1. remove one point from the dataset\n",
    "2. train a model from the remaining data\n",
    "3. compute the error on the removed point (which wasn't in the training data)\n",
    "4. repeat this for each point in the dataset in turn\n",
    "5. average the resulting error\n",
    "\n",
    "Wikipedia: [Leave-one-out error](https://en.wikipedia.org/wiki/Leave-one-out_error)\n",
    "\n",
    "(next graph) leave one out error: validation data is in green"
   ]
  },
  {
   "cell_type": "code",
   "execution_count": 7,
   "metadata": {
    "collapsed": false,
    "slideshow": {
     "slide_type": "slide"
    }
   },
   "outputs": [
    {
     "data": {
      "text/html": [
       "<img src='./diagrams/olympic_loo013_LM_polynomial_num_basis004.svg'>"
      ],
      "text/plain": [
       "<IPython.core.display.HTML object>"
      ]
     },
     "metadata": {},
     "output_type": "display_data"
    }
   ],
   "source": [
    "nb.display_plots('olympic_loo{part:0>3}_LM_polynomial_num_basis{num_basis:0>3}.svg', directory='./diagrams', num_basis=(1, max_basis), part=(0,x.shape[0]-1))"
   ]
  },
  {
   "cell_type": "markdown",
   "metadata": {
    "slideshow": {
     "slide_type": "slide"
    }
   },
   "source": [
    "### Bias Variance Decomposition\n",
    "\n",
    "The expected error for a trained model $f^*$ with unseen data $(\\mathbf{x},y)$ is decomposed as\n",
    "$$\n",
    "  \\mathbb{E}\\left[ (y - f^*(\\mathbf{x}))^2 \\right] = \\left\\{ \\text{bias}\\left[ f^*(\\mathbf{x}) \\right] \\right\\}^2 + \\text{variance}\\left[ f^*(\\mathbf{x}) \\right] + \\sigma^2\n",
    "$$\n",
    "where\n",
    "\\begin{align*}\n",
    "  \\text{bias}\\left[ f^*(\\mathbf{x}) \\right] = & \\mathbb{E}\\left[ f^*(\\mathbf{x}) - f(\\mathbf{x}) \\right] \\\\\n",
    "  \\text{variance}\\left[ f^*(\\mathbf{x}) \\right] = & \\mathbb{E}\\left[ f^*(\\mathbf{x})^2 \\right] -  \\mathbb{E}\\left[ f^*(\\mathbf{x}) \\right]^2\n",
    "\\end{align*}"
   ]
  },
  {
   "cell_type": "markdown",
   "metadata": {
    "slideshow": {
     "slide_type": "slide"
    }
   },
   "source": [
    "### Bias Variance Tradeoff\n",
    "\n",
    "Bias:\n",
    "\n",
    "- error due to bias comes from a model that is too simple\n",
    "\n",
    "Variance:\n",
    "\n",
    "- slight variations of training set cause changes in the prediction\n",
    "- error due to variance is error in the model due to an overly complex model\n",
    "\n",
    "Wikipedia: [Bias-variance tradeoff](https://en.wikipedia.org/wiki/Bias%E2%80%93variance_tradeoff)"
   ]
  },
  {
   "cell_type": "markdown",
   "metadata": {
    "slideshow": {
     "slide_type": "slide"
    }
   },
   "source": [
    "### $k$-fold Cross Validation\n",
    "\n",
    "Leave one out error can be very time consuming because we need to repeat the algorithm $n$ times ($n$ is the number of data points).\n",
    "\n",
    "An alternative is $k$-fold cross validation.\n",
    "\n",
    "Wikipedia: [Cross validation](https://en.wikipedia.org/wiki/Cross-validation)\n",
    "\n",
    "(next graph) 5-fold cross validation: validation data is in green"
   ]
  },
  {
   "cell_type": "markdown",
   "metadata": {
    "slideshow": {
     "slide_type": "slide"
    }
   },
   "source": [
    "![](./diagrams/olympic_5cv00_BLM_polynomial_num_basis007.png)"
   ]
  }
 ],
 "metadata": {
  "celltoolbar": "Slideshow",
  "kernelspec": {
   "display_name": "Python 3",
   "language": "python",
   "name": "python3"
  },
  "language_info": {
   "codemirror_mode": {
    "name": "ipython",
    "version": 3
   },
   "file_extension": ".py",
   "mimetype": "text/x-python",
   "name": "python",
   "nbconvert_exporter": "python",
   "pygments_lexer": "ipython3",
   "version": "3.5.2"
  }
 },
 "nbformat": 4,
 "nbformat_minor": 0
}
